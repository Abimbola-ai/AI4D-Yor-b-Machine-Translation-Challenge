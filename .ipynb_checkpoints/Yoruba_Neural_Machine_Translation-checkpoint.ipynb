{
 "cells": [
  {
   "cell_type": "code",
   "execution_count": 1,
   "metadata": {
    "colab": {
     "base_uri": "https://localhost:8080/"
    },
    "id": "JbnYCjFhckT2",
    "outputId": "bf3d0540-f9a1-489a-d21c-07f27fe4145c"
   },
   "outputs": [
    {
     "name": "stderr",
     "output_type": "stream",
     "text": [
      "/Applications/anaconda3/lib/python3.7/site-packages/statsmodels/tools/_testing.py:19: FutureWarning: pandas.util.testing is deprecated. Use the functions in the public API at pandas.testing instead.\n",
      "  import pandas.util.testing as tm\n",
      "Using TensorFlow backend.\n",
      "/Applications/anaconda3/lib/python3.7/site-packages/tensorflow/python/framework/dtypes.py:516: FutureWarning: Passing (type, 1) or '1type' as a synonym of type is deprecated; in a future version of numpy, it will be understood as (type, (1,)) / '(1,)type'.\n",
      "  _np_qint8 = np.dtype([(\"qint8\", np.int8, 1)])\n",
      "/Applications/anaconda3/lib/python3.7/site-packages/tensorflow/python/framework/dtypes.py:517: FutureWarning: Passing (type, 1) or '1type' as a synonym of type is deprecated; in a future version of numpy, it will be understood as (type, (1,)) / '(1,)type'.\n",
      "  _np_quint8 = np.dtype([(\"quint8\", np.uint8, 1)])\n",
      "/Applications/anaconda3/lib/python3.7/site-packages/tensorflow/python/framework/dtypes.py:518: FutureWarning: Passing (type, 1) or '1type' as a synonym of type is deprecated; in a future version of numpy, it will be understood as (type, (1,)) / '(1,)type'.\n",
      "  _np_qint16 = np.dtype([(\"qint16\", np.int16, 1)])\n",
      "/Applications/anaconda3/lib/python3.7/site-packages/tensorflow/python/framework/dtypes.py:519: FutureWarning: Passing (type, 1) or '1type' as a synonym of type is deprecated; in a future version of numpy, it will be understood as (type, (1,)) / '(1,)type'.\n",
      "  _np_quint16 = np.dtype([(\"quint16\", np.uint16, 1)])\n",
      "/Applications/anaconda3/lib/python3.7/site-packages/tensorflow/python/framework/dtypes.py:520: FutureWarning: Passing (type, 1) or '1type' as a synonym of type is deprecated; in a future version of numpy, it will be understood as (type, (1,)) / '(1,)type'.\n",
      "  _np_qint32 = np.dtype([(\"qint32\", np.int32, 1)])\n",
      "/Applications/anaconda3/lib/python3.7/site-packages/tensorflow/python/framework/dtypes.py:525: FutureWarning: Passing (type, 1) or '1type' as a synonym of type is deprecated; in a future version of numpy, it will be understood as (type, (1,)) / '(1,)type'.\n",
      "  np_resource = np.dtype([(\"resource\", np.ubyte, 1)])\n",
      "/Applications/anaconda3/lib/python3.7/site-packages/tensorboard/compat/tensorflow_stub/dtypes.py:541: FutureWarning: Passing (type, 1) or '1type' as a synonym of type is deprecated; in a future version of numpy, it will be understood as (type, (1,)) / '(1,)type'.\n",
      "  _np_qint8 = np.dtype([(\"qint8\", np.int8, 1)])\n",
      "/Applications/anaconda3/lib/python3.7/site-packages/tensorboard/compat/tensorflow_stub/dtypes.py:542: FutureWarning: Passing (type, 1) or '1type' as a synonym of type is deprecated; in a future version of numpy, it will be understood as (type, (1,)) / '(1,)type'.\n",
      "  _np_quint8 = np.dtype([(\"quint8\", np.uint8, 1)])\n",
      "/Applications/anaconda3/lib/python3.7/site-packages/tensorboard/compat/tensorflow_stub/dtypes.py:543: FutureWarning: Passing (type, 1) or '1type' as a synonym of type is deprecated; in a future version of numpy, it will be understood as (type, (1,)) / '(1,)type'.\n",
      "  _np_qint16 = np.dtype([(\"qint16\", np.int16, 1)])\n",
      "/Applications/anaconda3/lib/python3.7/site-packages/tensorboard/compat/tensorflow_stub/dtypes.py:544: FutureWarning: Passing (type, 1) or '1type' as a synonym of type is deprecated; in a future version of numpy, it will be understood as (type, (1,)) / '(1,)type'.\n",
      "  _np_quint16 = np.dtype([(\"quint16\", np.uint16, 1)])\n",
      "/Applications/anaconda3/lib/python3.7/site-packages/tensorboard/compat/tensorflow_stub/dtypes.py:545: FutureWarning: Passing (type, 1) or '1type' as a synonym of type is deprecated; in a future version of numpy, it will be understood as (type, (1,)) / '(1,)type'.\n",
      "  _np_qint32 = np.dtype([(\"qint32\", np.int32, 1)])\n",
      "/Applications/anaconda3/lib/python3.7/site-packages/tensorboard/compat/tensorflow_stub/dtypes.py:550: FutureWarning: Passing (type, 1) or '1type' as a synonym of type is deprecated; in a future version of numpy, it will be understood as (type, (1,)) / '(1,)type'.\n",
      "  np_resource = np.dtype([(\"resource\", np.ubyte, 1)])\n"
     ]
    }
   ],
   "source": [
    "\n",
    "import numpy as np # linear algebra\n",
    "import pandas as pd # data processing, CSV file I/O (e.g. pd.read_csv)\n",
    "\n",
    "\n",
    "\n",
    "import os\n",
    "import string\n",
    "from string import digits\n",
    "import matplotlib.pyplot as plt\n",
    "%matplotlib inline\n",
    "import re\n",
    "\n",
    "import seaborn as sns\n",
    "from sklearn.utils import shuffle\n",
    "from sklearn.model_selection import train_test_split\n",
    "from keras.layers import Input, LSTM, Embedding, Dense\n",
    "from keras.models import Model\n",
    "\n",
    "\n",
    "pd.set_option('display.max_rows', 500)\n",
    "pd.set_option('display.max_columns', 500)\n",
    "pd.set_option('display.width', 1000)\n",
    "pd.set_option('display.max_colwidth', 1)\n"
   ]
  },
  {
   "cell_type": "code",
   "execution_count": 2,
   "metadata": {},
   "outputs": [],
   "source": [
    "train = pd.read_csv(\"train.csv\",encoding='utf-8')"
   ]
  },
  {
   "cell_type": "code",
   "execution_count": 3,
   "metadata": {},
   "outputs": [
    {
     "data": {
      "text/html": [
       "<div>\n",
       "<style scoped>\n",
       "    .dataframe tbody tr th:only-of-type {\n",
       "        vertical-align: middle;\n",
       "    }\n",
       "\n",
       "    .dataframe tbody tr th {\n",
       "        vertical-align: top;\n",
       "    }\n",
       "\n",
       "    .dataframe thead th {\n",
       "        text-align: right;\n",
       "    }\n",
       "</style>\n",
       "<table border=\"1\" class=\"dataframe\">\n",
       "  <thead>\n",
       "    <tr style=\"text-align: right;\">\n",
       "      <th></th>\n",
       "      <th>Unnamed: 0</th>\n",
       "      <th>ID</th>\n",
       "      <th>Yoruba</th>\n",
       "      <th>English</th>\n",
       "    </tr>\n",
       "  </thead>\n",
       "  <tbody>\n",
       "    <tr>\n",
       "      <th>0</th>\n",
       "      <td>0</td>\n",
       "      <td>ID_AAJEQLCz</td>\n",
       "      <td>A ṣètò Ìgbìmọ̀ Tó Ń Ṣètò Ìrànwọ́ Nígbà Àjálù láti wá bí àwọn ará wa níbẹ̀ ṣe máa rí àwọn nǹkan tí wọ́n máa nílò lọ́jọ́ iwájú.</td>\n",
       "      <td>A Disaster Relief Committee was formed to organize the long-term relief efforts.</td>\n",
       "    </tr>\n",
       "    <tr>\n",
       "      <th>1</th>\n",
       "      <td>1</td>\n",
       "      <td>ID_AASNedba</td>\n",
       "      <td>Ìrọ̀lẹ́ May 22, 2018 ni wọ́n fàṣẹ ọba mú Arákùnrin Solovyev ní ibùdókọ̀ ojú irin nígbà tí òun àti Anna ìyàwó rẹ̀ ń bọ̀ láti ìrìn-àjò tí wọ́n lọ lórílẹ̀-èdè míì.</td>\n",
       "      <td>Brother Solovyev was arrested on the evening of May 22, 2018, at a railway station, as he was arriving home from a trip abroad with his wife, Anna.</td>\n",
       "    </tr>\n",
       "    <tr>\n",
       "      <th>2</th>\n",
       "      <td>2</td>\n",
       "      <td>ID_AAeQrhMq</td>\n",
       "      <td>Iléeṣẹ́ Creative Commons náà</td>\n",
       "      <td>Creative Commons the Organization</td>\n",
       "    </tr>\n",
       "    <tr>\n",
       "      <th>3</th>\n",
       "      <td>3</td>\n",
       "      <td>ID_AAxlMgPP</td>\n",
       "      <td>Pè̩lú Egypt, Morocco àti Tunisia tí wó̩n ti lo̩lé, Senegal nìkan lorílè̩èdè adúláwò̩ kan tó kù, wo̩n á fe̩sè̩wo̩nsè̩ pè̩lú Colombia ni ìfe̩sè̩wo̩nsè̩ tó ké̩yìn ikò̩ H ló̩jó̩bò̩.</td>\n",
       "      <td>With Egypt, Morocco and Tunisia out of the World Cup, Senegal, the only African nation left,  will take on Columbia in their last group H game on Thursday.</td>\n",
       "    </tr>\n",
       "    <tr>\n",
       "      <th>4</th>\n",
       "      <td>4</td>\n",
       "      <td>ID_ABKuMKSx</td>\n",
       "      <td>Adájọ́ àgbà lórílẹ̀ èdè Náíjíríà (Attorney General of the Federation), Justice Abubakar Malami ti pàsẹ fún ilé-isẹ́ ọ̀tẹlẹ̀múyẹ́ (Department of State Services, DSS) láti jáwọ́ lórí ẹ̀sun Omoyẹle Sowore ní kíákíá.</td>\n",
       "      <td>The Attorney General of the Federation, Justice Abubakar Malami has ordered the Department of State Services (DSS) to hands off the trial of Omoyele Sowore.</td>\n",
       "    </tr>\n",
       "    <tr>\n",
       "      <th>5</th>\n",
       "      <td>5</td>\n",
       "      <td>ID_ABOgDsPv</td>\n",
       "      <td>Ìpilẹ̀ ọrọ̀ọ́ lẹ́gbin.</td>\n",
       "      <td>The beginning of wealth is chock-full of filth.</td>\n",
       "    </tr>\n",
       "    <tr>\n",
       "      <th>6</th>\n",
       "      <td>6</td>\n",
       "      <td>ID_ABPBNrvn</td>\n",
       "      <td>Ní tòótọ́, nígbà tí mo bá bẹ̀rẹ̀ sí sáré káàkiri tí mò ń sọ pé, “Hey, ọmọkùnrin àti ọmọbìnrin, onímọ̀ nípa ààrun ọkàn niyín ní orílẹ̀-ède US, ǹjẹ́ ẹ lè tẹ̀lé mi padà sílé ká lọ ṣe iṣẹ́ pátàkì kan?</td>\n",
       "      <td>In fact, when I start running around saying, \"Hey, boys and girls, you're cardiologists in the U.S, can you come home with me and do a mission?</td>\n",
       "    </tr>\n",
       "    <tr>\n",
       "      <th>7</th>\n",
       "      <td>7</td>\n",
       "      <td>ID_ABRvCeJZ</td>\n",
       "      <td>\"Ní September 2, 2019, Ilé Ẹjọ́ Àgbègbè Zheleznodorozhniy ní ìlú Khabarovsk lórílẹ̀-èdè Rọ́ṣíà dájọ́ pé kí Arákùnrin Valeriy Moskalenko lọ ṣe iṣẹ́ àṣesìnlú fún ọdún méjì àti oṣù méjì.</td>\n",
       "      <td>\"On September 2, 2019, the Zheleznodorozhniy District Court of Khabarovsk, Russia, sentenced Brother Valeriy Moskalenko to two years and two months of community service and another six months of probation.</td>\n",
       "    </tr>\n",
       "    <tr>\n",
       "      <th>8</th>\n",
       "      <td>8</td>\n",
       "      <td>ID_ABfNHLLl</td>\n",
       "      <td>Olóògùn ní ńṣe bí a-láigbọ́-mọ̀ràn; bí ogun ó bàá wọ̀lú ọlọgbọ́n là ńfọ̀rọ̀ lọ̀.</td>\n",
       "      <td>The medicine man behaves like a person impervious to wise counsel; if war threatens a town the person to consult for counsel is the sage.</td>\n",
       "    </tr>\n",
       "    <tr>\n",
       "      <th>9</th>\n",
       "      <td>9</td>\n",
       "      <td>ID_ABifvERa</td>\n",
       "      <td>Wọ́n mú Anton Lemeshev tó jẹ́ alàgbà, wọ́n sì fi sí àtìmọ́lé fún oṣù méjì kí wọ́n tó gbọ́ ẹjọ́ rẹ̀.</td>\n",
       "      <td>Anton Lemeshev, an elder, was arrested and then sentenced to pretrial detention for two months.</td>\n",
       "    </tr>\n",
       "    <tr>\n",
       "      <th>10</th>\n",
       "      <td>10</td>\n",
       "      <td>ID_ACXnXIuR</td>\n",
       "      <td>Òtòṣì ò gbọ́ tìṣẹ́ ẹ̀ ó ní ogún kó àparò; ọdẹ́ rorò.</td>\n",
       "      <td>The destitute person does not look to repairing his fortune; he says the partidge has been captured in a war, for the hunter is merciless.</td>\n",
       "    </tr>\n",
       "    <tr>\n",
       "      <th>11</th>\n",
       "      <td>11</td>\n",
       "      <td>ID_ACaRPExL</td>\n",
       "      <td>Ọ̀gá ọlọ́ọ̀pá gbóṣùbà ràbàndẹ̀ fún olùtónisónà rẹ̀ fún iṣẹ́ ribiribi ó sì tẹ̀síwájú pé ohun náà lófa ti àṣeyọrí àwọn ọlọ́ọ̀pá olùgbanisílẹ̀ tí wọn rí àwọn ọ̀daràn mú pẹ̀lú àwọn oun ìjà tí wọn rígbà.</td>\n",
       "      <td>The Police boss commended his mentor for a good job, and maintained that the mind boggling arrests and arms recoveries were a testament to the efficiency of the rescue team.</td>\n",
       "    </tr>\n",
       "    <tr>\n",
       "      <th>12</th>\n",
       "      <td>12</td>\n",
       "      <td>ID_ACaztIeD</td>\n",
       "      <td>Ẹ̀yin gan ni ọ̀daràn</td>\n",
       "      <td>In fact you are the criminal</td>\n",
       "    </tr>\n",
       "    <tr>\n",
       "      <th>13</th>\n",
       "      <td>13</td>\n",
       "      <td>ID_ACsRCYIg</td>\n",
       "      <td>Mo rò wí pé mo wà láàrín-gbùgbun àgbáyé ni.</td>\n",
       "      <td>I literally thought I was in the center of the universe.</td>\n",
       "    </tr>\n",
       "    <tr>\n",
       "      <th>14</th>\n",
       "      <td>14</td>\n",
       "      <td>ID_ADKVAumy</td>\n",
       "      <td>Ṣùgbọ́n mi ò mọ nǹkan tí ẹ̀ ń sọ</td>\n",
       "      <td>But I don't know what you guys are talking about</td>\n",
       "    </tr>\n",
       "    <tr>\n",
       "      <th>15</th>\n",
       "      <td>15</td>\n",
       "      <td>ID_ADUlptKz</td>\n",
       "      <td>Omíyalé náà mú kí àwọn odò tó wà lágbègbè náà kún kọjá ààlà, àwọn ibi tó ń gba omi dúró ya lulẹ̀, ó ba ọ̀pọ̀lọpọ̀ ilé jẹ́, ó sì pa ó kéré tán èèyàn mẹ́rin.</td>\n",
       "      <td>As rivers in the area rose to historic levels, water breached dams and levees, damaging hundreds of homes and killing at least four people.</td>\n",
       "    </tr>\n",
       "    <tr>\n",
       "      <th>16</th>\n",
       "      <td>16</td>\n",
       "      <td>ID_ADWbtnfg</td>\n",
       "      <td>Bí iṣẹ́ kò pẹ́ ẹni, a kì í pẹ́ iṣẹ́.</td>\n",
       "      <td>If a task does not delay one, one does not drag it out.</td>\n",
       "    </tr>\n",
       "    <tr>\n",
       "      <th>17</th>\n",
       "      <td>17</td>\n",
       "      <td>ID_ADaIBCnH</td>\n",
       "      <td>Ẹ̀dà Bíbélì ìpilẹ̀ṣẹ̀ Christian III ti ọdún 1550 Erik Jørgensen tó wà ní ẹ̀ka ọ́fíìsì orílẹ̀-èdè Scandinavia sọ pé: “Ibi tuntun tí wọ́n ń kó onírúurú Bíbélì sí yìí ti jẹ́ ka rí i pé láti ọ̀pọ̀ ọdún sẹ́yìn làwọn ará Scandinavia ti ní ìfẹ́ tó jinlẹ̀ fún Ọrọ̀ Ọlọ́run àti orúkọ rẹ̀ tí kò lẹ́gbẹ́, ìyẹn Jèhófà.”</td>\n",
       "      <td>An original copy of the 1550 Christian III Bible Erik Jørgensen from the Scandinavia branch office comments: “This new Bible museum demonstrates the deep respect that has existed for centuries in Scandinavia for both God’s Word and his majestic name, Jehovah.”</td>\n",
       "    </tr>\n",
       "    <tr>\n",
       "      <th>18</th>\n",
       "      <td>18</td>\n",
       "      <td>ID_ADiGUwbB</td>\n",
       "      <td>Wíwòó tó ìran.</td>\n",
       "      <td>Watching is enough for a spectacle.</td>\n",
       "    </tr>\n",
       "    <tr>\n",
       "      <th>19</th>\n",
       "      <td>19</td>\n",
       "      <td>ID_ADwCeiLA</td>\n",
       "      <td>Pẹlu ọkàn ìfẹ́ yìí ni a fi yan ewé P láàyò ní yàrá ìwádìí wa</td>\n",
       "      <td>It is with this interest that in our laboratory we chose a plant P</td>\n",
       "    </tr>\n",
       "  </tbody>\n",
       "</table>\n",
       "</div>"
      ],
      "text/plain": [
       "    Unnamed: 0           ID                                                                                                                                                                                                                                                                                                               Yoruba                                                                                                                                                                                                                                                               English\n",
       "0   0           ID_AAJEQLCz  A ṣètò Ìgbìmọ̀ Tó Ń Ṣètò Ìrànwọ́ Nígbà Àjálù láti wá bí àwọn ará wa níbẹ̀ ṣe máa rí àwọn nǹkan tí wọ́n máa nílò lọ́jọ́ iwájú.                                                                                                                                                                                        A Disaster Relief Committee was formed to organize the long-term relief efforts.                                                                                                                                                                                    \n",
       "1   1           ID_AASNedba  Ìrọ̀lẹ́ May 22, 2018 ni wọ́n fàṣẹ ọba mú Arákùnrin Solovyev ní ibùdókọ̀ ojú irin nígbà tí òun àti Anna ìyàwó rẹ̀ ń bọ̀ láti ìrìn-àjò tí wọ́n lọ lórílẹ̀-èdè míì.                                                                                                                                                     Brother Solovyev was arrested on the evening of May 22, 2018, at a railway station, as he was arriving home from a trip abroad with his wife, Anna.                                                                                                                 \n",
       "2   2           ID_AAeQrhMq  Iléeṣẹ́ Creative Commons náà                                                                                                                                                                                                                                                                                         Creative Commons the Organization                                                                                                                                                                                                                                   \n",
       "3   3           ID_AAxlMgPP  Pè̩lú Egypt, Morocco àti Tunisia tí wó̩n ti lo̩lé, Senegal nìkan lorílè̩èdè adúláwò̩ kan tó kù, wo̩n á fe̩sè̩wo̩nsè̩ pè̩lú Colombia ni ìfe̩sè̩wo̩nsè̩ tó ké̩yìn ikò̩ H ló̩jó̩bò̩.                                                                                                                                    With Egypt, Morocco and Tunisia out of the World Cup, Senegal, the only African nation left,  will take on Columbia in their last group H game on Thursday.                                                                                                         \n",
       "4   4           ID_ABKuMKSx  Adájọ́ àgbà lórílẹ̀ èdè Náíjíríà (Attorney General of the Federation), Justice Abubakar Malami ti pàsẹ fún ilé-isẹ́ ọ̀tẹlẹ̀múyẹ́ (Department of State Services, DSS) láti jáwọ́ lórí ẹ̀sun Omoyẹle Sowore ní kíákíá.                                                                                                 The Attorney General of the Federation, Justice Abubakar Malami has ordered the Department of State Services (DSS) to hands off the trial of Omoyele Sowore.                                                                                                        \n",
       "5   5           ID_ABOgDsPv  Ìpilẹ̀ ọrọ̀ọ́ lẹ́gbin.                                                                                                                                                                                                                                                                                               The beginning of wealth is chock-full of filth.                                                                                                                                                                                                                     \n",
       "6   6           ID_ABPBNrvn  Ní tòótọ́, nígbà tí mo bá bẹ̀rẹ̀ sí sáré káàkiri tí mò ń sọ pé, “Hey, ọmọkùnrin àti ọmọbìnrin, onímọ̀ nípa ààrun ọkàn niyín ní orílẹ̀-ède US, ǹjẹ́ ẹ lè tẹ̀lé mi padà sílé ká lọ ṣe iṣẹ́ pátàkì kan?                                                                                                                 In fact, when I start running around saying, \"Hey, boys and girls, you're cardiologists in the U.S, can you come home with me and do a mission?                                                                                                                     \n",
       "7   7           ID_ABRvCeJZ  \"Ní September 2, 2019, Ilé Ẹjọ́ Àgbègbè Zheleznodorozhniy ní ìlú Khabarovsk lórílẹ̀-èdè Rọ́ṣíà dájọ́ pé kí Arákùnrin Valeriy Moskalenko lọ ṣe iṣẹ́ àṣesìnlú fún ọdún méjì àti oṣù méjì.                                                                                                                              \"On September 2, 2019, the Zheleznodorozhniy District Court of Khabarovsk, Russia, sentenced Brother Valeriy Moskalenko to two years and two months of community service and another six months of probation.                                                       \n",
       "8   8           ID_ABfNHLLl  Olóògùn ní ńṣe bí a-láigbọ́-mọ̀ràn; bí ogun ó bàá wọ̀lú ọlọgbọ́n là ńfọ̀rọ̀ lọ̀.                                                                                                                                                                                                                                     The medicine man behaves like a person impervious to wise counsel; if war threatens a town the person to consult for counsel is the sage.                                                                                                                           \n",
       "9   9           ID_ABifvERa  Wọ́n mú Anton Lemeshev tó jẹ́ alàgbà, wọ́n sì fi sí àtìmọ́lé fún oṣù méjì kí wọ́n tó gbọ́ ẹjọ́ rẹ̀.                                                                                                                                                                                                                  Anton Lemeshev, an elder, was arrested and then sentenced to pretrial detention for two months.                                                                                                                                                                     \n",
       "10  10          ID_ACXnXIuR  Òtòṣì ò gbọ́ tìṣẹ́ ẹ̀ ó ní ogún kó àparò; ọdẹ́ rorò.                                                                                                                                                                                                                                                                 The destitute person does not look to repairing his fortune; he says the partidge has been captured in a war, for the hunter is merciless.                                                                                                                          \n",
       "11  11          ID_ACaRPExL  Ọ̀gá ọlọ́ọ̀pá gbóṣùbà ràbàndẹ̀ fún olùtónisónà rẹ̀ fún iṣẹ́ ribiribi ó sì tẹ̀síwájú pé ohun náà lófa ti àṣeyọrí àwọn ọlọ́ọ̀pá olùgbanisílẹ̀ tí wọn rí àwọn ọ̀daràn mú pẹ̀lú àwọn oun ìjà tí wọn rígbà.                                                                                                               The Police boss commended his mentor for a good job, and maintained that the mind boggling arrests and arms recoveries were a testament to the efficiency of the rescue team.                                                                                       \n",
       "12  12          ID_ACaztIeD  Ẹ̀yin gan ni ọ̀daràn                                                                                                                                                                                                                                                                                                 In fact you are the criminal                                                                                                                                                                                                                                        \n",
       "13  13          ID_ACsRCYIg  Mo rò wí pé mo wà láàrín-gbùgbun àgbáyé ni.                                                                                                                                                                                                                                                                          I literally thought I was in the center of the universe.                                                                                                                                                                                                            \n",
       "14  14          ID_ADKVAumy  Ṣùgbọ́n mi ò mọ nǹkan tí ẹ̀ ń sọ                                                                                                                                                                                                                                                                                     But I don't know what you guys are talking about                                                                                                                                                                                                                    \n",
       "15  15          ID_ADUlptKz  Omíyalé náà mú kí àwọn odò tó wà lágbègbè náà kún kọjá ààlà, àwọn ibi tó ń gba omi dúró ya lulẹ̀, ó ba ọ̀pọ̀lọpọ̀ ilé jẹ́, ó sì pa ó kéré tán èèyàn mẹ́rin.                                                                                                                                                          As rivers in the area rose to historic levels, water breached dams and levees, damaging hundreds of homes and killing at least four people.                                                                                                                         \n",
       "16  16          ID_ADWbtnfg  Bí iṣẹ́ kò pẹ́ ẹni, a kì í pẹ́ iṣẹ́.                                                                                                                                                                                                                                                                                 If a task does not delay one, one does not drag it out.                                                                                                                                                                                                             \n",
       "17  17          ID_ADaIBCnH  Ẹ̀dà Bíbélì ìpilẹ̀ṣẹ̀ Christian III ti ọdún 1550 Erik Jørgensen tó wà ní ẹ̀ka ọ́fíìsì orílẹ̀-èdè Scandinavia sọ pé: “Ibi tuntun tí wọ́n ń kó onírúurú Bíbélì sí yìí ti jẹ́ ka rí i pé láti ọ̀pọ̀ ọdún sẹ́yìn làwọn ará Scandinavia ti ní ìfẹ́ tó jinlẹ̀ fún Ọrọ̀ Ọlọ́run àti orúkọ rẹ̀ tí kò lẹ́gbẹ́, ìyẹn Jèhófà.”  An original copy of the 1550 Christian III Bible Erik Jørgensen from the Scandinavia branch office comments: “This new Bible museum demonstrates the deep respect that has existed for centuries in Scandinavia for both God’s Word and his majestic name, Jehovah.”\n",
       "18  18          ID_ADiGUwbB  Wíwòó tó ìran.                                                                                                                                                                                                                                                                                                       Watching is enough for a spectacle.                                                                                                                                                                                                                                 \n",
       "19  19          ID_ADwCeiLA  Pẹlu ọkàn ìfẹ́ yìí ni a fi yan ewé P láàyò ní yàrá ìwádìí wa                                                                                                                                                                                                                                                         It is with this interest that in our laboratory we chose a plant P                                                                                                                                                                                                  "
      ]
     },
     "execution_count": 3,
     "metadata": {},
     "output_type": "execute_result"
    }
   ],
   "source": [
    "train.head(20)"
   ]
  },
  {
   "cell_type": "code",
   "execution_count": 4,
   "metadata": {},
   "outputs": [
    {
     "data": {
      "text/plain": [
       "Unnamed: 0    0\n",
       "ID            0\n",
       "Yoruba        0\n",
       "English       0\n",
       "dtype: int64"
      ]
     },
     "execution_count": 4,
     "metadata": {},
     "output_type": "execute_result"
    }
   ],
   "source": [
    "# Check for null values\n",
    "train.isnull().sum()"
   ]
  },
  {
   "cell_type": "code",
   "execution_count": 5,
   "metadata": {},
   "outputs": [
    {
     "data": {
      "text/plain": [
       "(10054, 4)"
      ]
     },
     "execution_count": 5,
     "metadata": {},
     "output_type": "execute_result"
    }
   ],
   "source": [
    "# Check shape of train dataset\n",
    "train.shape"
   ]
  },
  {
   "cell_type": "code",
   "execution_count": 6,
   "metadata": {},
   "outputs": [
    {
     "name": "stdout",
     "output_type": "stream",
     "text": [
      "<class 'pandas.core.frame.DataFrame'>\n",
      "RangeIndex: 10054 entries, 0 to 10053\n",
      "Data columns (total 4 columns):\n",
      " #   Column      Non-Null Count  Dtype \n",
      "---  ------      --------------  ----- \n",
      " 0   Unnamed: 0  10054 non-null  int64 \n",
      " 1   ID          10054 non-null  object\n",
      " 2   Yoruba      10054 non-null  object\n",
      " 3   English     10054 non-null  object\n",
      "dtypes: int64(1), object(3)\n",
      "memory usage: 314.3+ KB\n"
     ]
    }
   ],
   "source": [
    "train.info()"
   ]
  },
  {
   "cell_type": "code",
   "execution_count": 7,
   "metadata": {},
   "outputs": [],
   "source": [
    "#lower all cases\n",
    "train[\"Yoruba\"] = train[\"Yoruba\"].apply(lambda x:x.lower())\n",
    "train[\"English\"] = train[\"English\"].apply(lambda x:x.lower())"
   ]
  },
  {
   "cell_type": "code",
   "execution_count": 8,
   "metadata": {},
   "outputs": [],
   "source": [
    "#Removing quotes\n",
    "train[\"Yoruba\"] = train[\"Yoruba\"].str.replace('\"', '')\n",
    "train[\"English\"] = train[\"English\"].str.replace('\"', '')"
   ]
  },
  {
   "cell_type": "code",
   "execution_count": 9,
   "metadata": {},
   "outputs": [],
   "source": [
    "exclude = set(string.punctuation) # Set of all special characters\n",
    "# Remove all the special characters\n",
    "train[\"Yoruba\"]=train[\"Yoruba\"].apply(lambda x: ''.join(ch for ch in x if ch not in exclude))\n",
    "train[\"English\"]=train[\"English\"].apply(lambda x: ''.join(ch for ch in x if ch not in exclude))"
   ]
  },
  {
   "cell_type": "code",
   "execution_count": 10,
   "metadata": {},
   "outputs": [],
   "source": [
    "#Removing numbers from text\n",
    "remove_digits = str.maketrans(\"\", \"\", digits)\n",
    "train[\"Yoruba\"] = train[\"Yoruba\"].apply(lambda x: x.translate(remove_digits))\n",
    "train[\"English\"] = train[\"English\"].apply(lambda x: x.translate(remove_digits))\n",
    "\n",
    "# No symbols for 1,2,3 in Yoruba language"
   ]
  },
  {
   "cell_type": "code",
   "execution_count": 11,
   "metadata": {},
   "outputs": [],
   "source": [
    "# Removing extra spaces\n",
    "train[\"Yoruba\"] = train[\"Yoruba\"].apply(lambda x: x.strip())\n",
    "train[\"English\"] = train[\"English\"].apply(lambda x: x.strip())\n",
    "train[\"Yoruba\"] = train[\"Yoruba\"].apply(lambda x: re.sub(\" +\", \" \", x))\n",
    "train[\"English\"] = train[\"English\"].apply(lambda x: re.sub(\" +\", \" \", x))"
   ]
  },
  {
   "cell_type": "code",
   "execution_count": 12,
   "metadata": {},
   "outputs": [],
   "source": [
    "import unicodedata\n",
    "def unicodeToAscii(s):\n",
    "    return ''.join(\n",
    "        c for c in unicodedata.normalize('NFD', s)\n",
    "        if unicodedata.category(c) != 'Mn'\n",
    "    )\n"
   ]
  },
  {
   "cell_type": "code",
   "execution_count": 13,
   "metadata": {},
   "outputs": [],
   "source": [
    "# Add start and end tokens to target sentences\n",
    "train[\"Yoruba\"] = train[\"Yoruba\"].apply(lambda x: \"START_ \"+ x +\" _END\")"
   ]
  },
  {
   "cell_type": "code",
   "execution_count": 14,
   "metadata": {},
   "outputs": [
    {
     "data": {
      "text/html": [
       "<div>\n",
       "<style scoped>\n",
       "    .dataframe tbody tr th:only-of-type {\n",
       "        vertical-align: middle;\n",
       "    }\n",
       "\n",
       "    .dataframe tbody tr th {\n",
       "        vertical-align: top;\n",
       "    }\n",
       "\n",
       "    .dataframe thead th {\n",
       "        text-align: right;\n",
       "    }\n",
       "</style>\n",
       "<table border=\"1\" class=\"dataframe\">\n",
       "  <thead>\n",
       "    <tr style=\"text-align: right;\">\n",
       "      <th></th>\n",
       "      <th>Unnamed: 0</th>\n",
       "      <th>ID</th>\n",
       "      <th>Yoruba</th>\n",
       "      <th>English</th>\n",
       "    </tr>\n",
       "  </thead>\n",
       "  <tbody>\n",
       "    <tr>\n",
       "      <th>0</th>\n",
       "      <td>0</td>\n",
       "      <td>ID_AAJEQLCz</td>\n",
       "      <td>START_ a ṣètò ìgbìmọ̀ tó ń ṣètò ìrànwọ́ nígbà àjálù láti wá bí àwọn ará wa níbẹ̀ ṣe máa rí àwọn nǹkan tí wọ́n máa nílò lọ́jọ́ iwájú _END</td>\n",
       "      <td>a disaster relief committee was formed to organize the longterm relief efforts</td>\n",
       "    </tr>\n",
       "    <tr>\n",
       "      <th>1</th>\n",
       "      <td>1</td>\n",
       "      <td>ID_AASNedba</td>\n",
       "      <td>START_ ìrọ̀lẹ́ may ni wọ́n fàṣẹ ọba mú arákùnrin solovyev ní ibùdókọ̀ ojú irin nígbà tí òun àti anna ìyàwó rẹ̀ ń bọ̀ láti ìrìnàjò tí wọ́n lọ lórílẹ̀èdè míì _END</td>\n",
       "      <td>brother solovyev was arrested on the evening of may at a railway station as he was arriving home from a trip abroad with his wife anna</td>\n",
       "    </tr>\n",
       "    <tr>\n",
       "      <th>2</th>\n",
       "      <td>2</td>\n",
       "      <td>ID_AAeQrhMq</td>\n",
       "      <td>START_ iléeṣẹ́ creative commons náà _END</td>\n",
       "      <td>creative commons the organization</td>\n",
       "    </tr>\n",
       "    <tr>\n",
       "      <th>3</th>\n",
       "      <td>3</td>\n",
       "      <td>ID_AAxlMgPP</td>\n",
       "      <td>START_ pè̩lú egypt morocco àti tunisia tí wó̩n ti lo̩lé senegal nìkan lorílè̩èdè adúláwò̩ kan tó kù wo̩n á fe̩sè̩wo̩nsè̩ pè̩lú colombia ni ìfe̩sè̩wo̩nsè̩ tó ké̩yìn ikò̩ h ló̩jó̩bò̩ _END</td>\n",
       "      <td>with egypt morocco and tunisia out of the world cup senegal the only african nation left will take on columbia in their last group h game on thursday</td>\n",
       "    </tr>\n",
       "    <tr>\n",
       "      <th>4</th>\n",
       "      <td>4</td>\n",
       "      <td>ID_ABKuMKSx</td>\n",
       "      <td>START_ adájọ́ àgbà lórílẹ̀ èdè náíjíríà attorney general of the federation justice abubakar malami ti pàsẹ fún iléisẹ́ ọ̀tẹlẹ̀múyẹ́ department of state services dss láti jáwọ́ lórí ẹ̀sun omoyẹle sowore ní kíákíá _END</td>\n",
       "      <td>the attorney general of the federation justice abubakar malami has ordered the department of state services dss to hands off the trial of omoyele sowore</td>\n",
       "    </tr>\n",
       "  </tbody>\n",
       "</table>\n",
       "</div>"
      ],
      "text/plain": [
       "   Unnamed: 0           ID                                                                                                                                                                                                                    Yoruba                                                                                                                                                   English\n",
       "0  0           ID_AAJEQLCz  START_ a ṣètò ìgbìmọ̀ tó ń ṣètò ìrànwọ́ nígbà àjálù láti wá bí àwọn ará wa níbẹ̀ ṣe máa rí àwọn nǹkan tí wọ́n máa nílò lọ́jọ́ iwájú _END                                                                                  a disaster relief committee was formed to organize the longterm relief efforts                                                                          \n",
       "1  1           ID_AASNedba  START_ ìrọ̀lẹ́ may ni wọ́n fàṣẹ ọba mú arákùnrin solovyev ní ibùdókọ̀ ojú irin nígbà tí òun àti anna ìyàwó rẹ̀ ń bọ̀ láti ìrìnàjò tí wọ́n lọ lórílẹ̀èdè míì _END                                                          brother solovyev was arrested on the evening of may at a railway station as he was arriving home from a trip abroad with his wife anna                  \n",
       "2  2           ID_AAeQrhMq  START_ iléeṣẹ́ creative commons náà _END                                                                                                                                                                                  creative commons the organization                                                                                                                       \n",
       "3  3           ID_AAxlMgPP  START_ pè̩lú egypt morocco àti tunisia tí wó̩n ti lo̩lé senegal nìkan lorílè̩èdè adúláwò̩ kan tó kù wo̩n á fe̩sè̩wo̩nsè̩ pè̩lú colombia ni ìfe̩sè̩wo̩nsè̩ tó ké̩yìn ikò̩ h ló̩jó̩bò̩ _END                                 with egypt morocco and tunisia out of the world cup senegal the only african nation left will take on columbia in their last group h game on thursday   \n",
       "4  4           ID_ABKuMKSx  START_ adájọ́ àgbà lórílẹ̀ èdè náíjíríà attorney general of the federation justice abubakar malami ti pàsẹ fún iléisẹ́ ọ̀tẹlẹ̀múyẹ́ department of state services dss láti jáwọ́ lórí ẹ̀sun omoyẹle sowore ní kíákíá _END  the attorney general of the federation justice abubakar malami has ordered the department of state services dss to hands off the trial of omoyele sowore"
      ]
     },
     "execution_count": 14,
     "metadata": {},
     "output_type": "execute_result"
    }
   ],
   "source": [
    "train.head()"
   ]
  },
  {
   "cell_type": "code",
   "execution_count": 15,
   "metadata": {},
   "outputs": [],
   "source": [
    "# Get English and Yoruba Vocabulary\n",
    "all_english_words = set()\n",
    "for english in train[\"English\"]:\n",
    "    for word in english.split():\n",
    "        if word not in all_english_words:\n",
    "            all_english_words.add(word)\n",
    "            \n",
    "all_yoruba_words = set()\n",
    "for yoruba in train[\"Yoruba\"]:\n",
    "    for word in yoruba.split():\n",
    "        if word not in all_yoruba_words:\n",
    "            all_yoruba_words.add(word)"
   ]
  },
  {
   "cell_type": "code",
   "execution_count": 16,
   "metadata": {},
   "outputs": [
    {
     "name": "stdout",
     "output_type": "stream",
     "text": [
      "Length of all english words: 16317\n",
      "Length of all yoruba words: 15792\n"
     ]
    }
   ],
   "source": [
    "print(\"Length of all english words: \" + str(len(all_english_words)))\n",
    "print(\"Length of all yoruba words: \" + str(len(all_yoruba_words)))    "
   ]
  },
  {
   "cell_type": "code",
   "execution_count": 17,
   "metadata": {},
   "outputs": [],
   "source": [
    "train[\"length_yor_sentence\"] = train[\"Yoruba\"].apply(lambda x:len(x.split(\" \")))\n",
    "train[\"length_eng_sentence\"] = train[\"English\"].apply(lambda x:len(x.split(\" \")))"
   ]
  },
  {
   "cell_type": "code",
   "execution_count": 18,
   "metadata": {},
   "outputs": [
    {
     "data": {
      "text/html": [
       "<div>\n",
       "<style scoped>\n",
       "    .dataframe tbody tr th:only-of-type {\n",
       "        vertical-align: middle;\n",
       "    }\n",
       "\n",
       "    .dataframe tbody tr th {\n",
       "        vertical-align: top;\n",
       "    }\n",
       "\n",
       "    .dataframe thead th {\n",
       "        text-align: right;\n",
       "    }\n",
       "</style>\n",
       "<table border=\"1\" class=\"dataframe\">\n",
       "  <thead>\n",
       "    <tr style=\"text-align: right;\">\n",
       "      <th></th>\n",
       "      <th>Unnamed: 0</th>\n",
       "      <th>ID</th>\n",
       "      <th>Yoruba</th>\n",
       "      <th>English</th>\n",
       "      <th>length_yor_sentence</th>\n",
       "      <th>length_eng_sentence</th>\n",
       "    </tr>\n",
       "  </thead>\n",
       "  <tbody>\n",
       "    <tr>\n",
       "      <th>0</th>\n",
       "      <td>0</td>\n",
       "      <td>ID_AAJEQLCz</td>\n",
       "      <td>START_ a ṣètò ìgbìmọ̀ tó ń ṣètò ìrànwọ́ nígbà àjálù láti wá bí àwọn ará wa níbẹ̀ ṣe máa rí àwọn nǹkan tí wọ́n máa nílò lọ́jọ́ iwájú _END</td>\n",
       "      <td>a disaster relief committee was formed to organize the longterm relief efforts</td>\n",
       "      <td>29</td>\n",
       "      <td>12</td>\n",
       "    </tr>\n",
       "    <tr>\n",
       "      <th>1</th>\n",
       "      <td>1</td>\n",
       "      <td>ID_AASNedba</td>\n",
       "      <td>START_ ìrọ̀lẹ́ may ni wọ́n fàṣẹ ọba mú arákùnrin solovyev ní ibùdókọ̀ ojú irin nígbà tí òun àti anna ìyàwó rẹ̀ ń bọ̀ láti ìrìnàjò tí wọ́n lọ lórílẹ̀èdè míì _END</td>\n",
       "      <td>brother solovyev was arrested on the evening of may at a railway station as he was arriving home from a trip abroad with his wife anna</td>\n",
       "      <td>31</td>\n",
       "      <td>26</td>\n",
       "    </tr>\n",
       "    <tr>\n",
       "      <th>2</th>\n",
       "      <td>2</td>\n",
       "      <td>ID_AAeQrhMq</td>\n",
       "      <td>START_ iléeṣẹ́ creative commons náà _END</td>\n",
       "      <td>creative commons the organization</td>\n",
       "      <td>6</td>\n",
       "      <td>4</td>\n",
       "    </tr>\n",
       "    <tr>\n",
       "      <th>3</th>\n",
       "      <td>3</td>\n",
       "      <td>ID_AAxlMgPP</td>\n",
       "      <td>START_ pè̩lú egypt morocco àti tunisia tí wó̩n ti lo̩lé senegal nìkan lorílè̩èdè adúláwò̩ kan tó kù wo̩n á fe̩sè̩wo̩nsè̩ pè̩lú colombia ni ìfe̩sè̩wo̩nsè̩ tó ké̩yìn ikò̩ h ló̩jó̩bò̩ _END</td>\n",
       "      <td>with egypt morocco and tunisia out of the world cup senegal the only african nation left will take on columbia in their last group h game on thursday</td>\n",
       "      <td>30</td>\n",
       "      <td>28</td>\n",
       "    </tr>\n",
       "    <tr>\n",
       "      <th>4</th>\n",
       "      <td>4</td>\n",
       "      <td>ID_ABKuMKSx</td>\n",
       "      <td>START_ adájọ́ àgbà lórílẹ̀ èdè náíjíríà attorney general of the federation justice abubakar malami ti pàsẹ fún iléisẹ́ ọ̀tẹlẹ̀múyẹ́ department of state services dss láti jáwọ́ lórí ẹ̀sun omoyẹle sowore ní kíákíá _END</td>\n",
       "      <td>the attorney general of the federation justice abubakar malami has ordered the department of state services dss to hands off the trial of omoyele sowore</td>\n",
       "      <td>33</td>\n",
       "      <td>25</td>\n",
       "    </tr>\n",
       "  </tbody>\n",
       "</table>\n",
       "</div>"
      ],
      "text/plain": [
       "   Unnamed: 0           ID                                                                                                                                                                                                                    Yoruba                                                                                                                                                   English  length_yor_sentence  length_eng_sentence\n",
       "0  0           ID_AAJEQLCz  START_ a ṣètò ìgbìmọ̀ tó ń ṣètò ìrànwọ́ nígbà àjálù láti wá bí àwọn ará wa níbẹ̀ ṣe máa rí àwọn nǹkan tí wọ́n máa nílò lọ́jọ́ iwájú _END                                                                                  a disaster relief committee was formed to organize the longterm relief efforts                                                                            29                   12                 \n",
       "1  1           ID_AASNedba  START_ ìrọ̀lẹ́ may ni wọ́n fàṣẹ ọba mú arákùnrin solovyev ní ibùdókọ̀ ojú irin nígbà tí òun àti anna ìyàwó rẹ̀ ń bọ̀ láti ìrìnàjò tí wọ́n lọ lórílẹ̀èdè míì _END                                                          brother solovyev was arrested on the evening of may at a railway station as he was arriving home from a trip abroad with his wife anna                    31                   26                 \n",
       "2  2           ID_AAeQrhMq  START_ iléeṣẹ́ creative commons náà _END                                                                                                                                                                                  creative commons the organization                                                                                                                         6                    4                  \n",
       "3  3           ID_AAxlMgPP  START_ pè̩lú egypt morocco àti tunisia tí wó̩n ti lo̩lé senegal nìkan lorílè̩èdè adúláwò̩ kan tó kù wo̩n á fe̩sè̩wo̩nsè̩ pè̩lú colombia ni ìfe̩sè̩wo̩nsè̩ tó ké̩yìn ikò̩ h ló̩jó̩bò̩ _END                                 with egypt morocco and tunisia out of the world cup senegal the only african nation left will take on columbia in their last group h game on thursday     30                   28                 \n",
       "4  4           ID_ABKuMKSx  START_ adájọ́ àgbà lórílẹ̀ èdè náíjíríà attorney general of the federation justice abubakar malami ti pàsẹ fún iléisẹ́ ọ̀tẹlẹ̀múyẹ́ department of state services dss láti jáwọ́ lórí ẹ̀sun omoyẹle sowore ní kíákíá _END  the attorney general of the federation justice abubakar malami has ordered the department of state services dss to hands off the trial of omoyele sowore  33                   25                 "
      ]
     },
     "execution_count": 18,
     "metadata": {},
     "output_type": "execute_result"
    }
   ],
   "source": [
    "train.head()"
   ]
  },
  {
   "cell_type": "code",
   "execution_count": 19,
   "metadata": {},
   "outputs": [
    {
     "data": {
      "text/plain": [
       "(10054, 6)"
      ]
     },
     "execution_count": 19,
     "metadata": {},
     "output_type": "execute_result"
    }
   ],
   "source": [
    "train.shape"
   ]
  },
  {
   "cell_type": "code",
   "execution_count": 20,
   "metadata": {},
   "outputs": [
    {
     "data": {
      "text/plain": [
       "(0, 6)"
      ]
     },
     "execution_count": 20,
     "metadata": {},
     "output_type": "execute_result"
    }
   ],
   "source": [
    "train[train['length_eng_sentence']>220].shape"
   ]
  },
  {
   "cell_type": "code",
   "execution_count": 21,
   "metadata": {},
   "outputs": [],
   "source": [
    "train = train[train['length_eng_sentence']<=78]\n",
    "train = train[train['length_yor_sentence']<=78]"
   ]
  },
  {
   "cell_type": "code",
   "execution_count": 22,
   "metadata": {},
   "outputs": [
    {
     "data": {
      "text/plain": [
       "(10009, 6)"
      ]
     },
     "execution_count": 22,
     "metadata": {},
     "output_type": "execute_result"
    }
   ],
   "source": [
    "train.shape"
   ]
  },
  {
   "cell_type": "code",
   "execution_count": 59,
   "metadata": {},
   "outputs": [
    {
     "name": "stdout",
     "output_type": "stream",
     "text": [
      "Maximum length of Yoruba Sentence  78\n",
      "maximum length of English Sentence  78\n"
     ]
    }
   ],
   "source": [
    "print(\"Maximum length of Yoruba Sentence \",max(train['length_yor_sentence']))\n",
    "print(\"maximum length of English Sentence \",max(train['length_eng_sentence']))"
   ]
  },
  {
   "cell_type": "code",
   "execution_count": 60,
   "metadata": {},
   "outputs": [],
   "source": [
    "max_length_src=max(train['length_yor_sentence'])\n",
    "max_length_tar=max(train['length_eng_sentence'])"
   ]
  },
  {
   "cell_type": "code",
   "execution_count": 61,
   "metadata": {},
   "outputs": [
    {
     "data": {
      "text/plain": [
       "(15792, 16317)"
      ]
     },
     "execution_count": 61,
     "metadata": {},
     "output_type": "execute_result"
    }
   ],
   "source": [
    "input_words = sorted(list(all_yoruba_words))\n",
    "target_words = sorted(list(all_english_words))\n",
    "num_encoder_tokens = len(all_yoruba_words)\n",
    "num_decoder_tokens = len(all_english_words)\n",
    "num_encoder_tokens, num_decoder_tokens"
   ]
  },
  {
   "cell_type": "code",
   "execution_count": 62,
   "metadata": {},
   "outputs": [],
   "source": [
    "#num_decoder_tokens += 1 #for zero padding\n",
    "num_decoder_tokens = num_decoder_tokens + 1 #for zero padding\n",
    "num_encoder_tokens = num_encoder_tokens + 1 "
   ]
  },
  {
   "cell_type": "code",
   "execution_count": 63,
   "metadata": {},
   "outputs": [],
   "source": [
    "input_token_index = dict([(word, i+1) for i, word in enumerate(input_words)])\n",
    "target_token_index = dict([(word, i+1) for i, word in enumerate(target_words)])"
   ]
  },
  {
   "cell_type": "code",
   "execution_count": 64,
   "metadata": {},
   "outputs": [],
   "source": [
    "# Index of the characters\n",
    "reverse_input_char_index = dict((i, word) for word, i in input_token_index.items())\n",
    "reverse_target_char_index = dict((i, word) for word, i in target_token_index.items())"
   ]
  },
  {
   "cell_type": "code",
   "execution_count": 65,
   "metadata": {},
   "outputs": [
    {
     "data": {
      "text/html": [
       "<div>\n",
       "<style scoped>\n",
       "    .dataframe tbody tr th:only-of-type {\n",
       "        vertical-align: middle;\n",
       "    }\n",
       "\n",
       "    .dataframe tbody tr th {\n",
       "        vertical-align: top;\n",
       "    }\n",
       "\n",
       "    .dataframe thead th {\n",
       "        text-align: right;\n",
       "    }\n",
       "</style>\n",
       "<table border=\"1\" class=\"dataframe\">\n",
       "  <thead>\n",
       "    <tr style=\"text-align: right;\">\n",
       "      <th></th>\n",
       "      <th>Unnamed: 0</th>\n",
       "      <th>ID</th>\n",
       "      <th>Yoruba</th>\n",
       "      <th>English</th>\n",
       "      <th>length_yor_sentence</th>\n",
       "      <th>length_eng_sentence</th>\n",
       "    </tr>\n",
       "  </thead>\n",
       "  <tbody>\n",
       "    <tr>\n",
       "      <th>9868</th>\n",
       "      <td>9868</td>\n",
       "      <td>ID_zJJUnaOb</td>\n",
       "      <td>START_ nígbà náà ńkọ́ _END</td>\n",
       "      <td>and so</td>\n",
       "      <td>5</td>\n",
       "      <td>2</td>\n",
       "    </tr>\n",
       "    <tr>\n",
       "      <th>1881</th>\n",
       "      <td>1881</td>\n",
       "      <td>ID_JYsNmnFP</td>\n",
       "      <td>START_ wọ́n ní ká sọ̀rọ̀ ká bá a bẹ́ẹ̀ ni eegun òótọ́ baba òpùrọ́ ni ẹni náà tí ó sọ wípé a ò mọ ọlọ́run àyàfi ìgbà tí ẹ̀sìn òkèèrè di àṣà _END</td>\n",
       "      <td>they say that speaking and confirming it is the bone of truth father of liar is anyone that says that we do not know god until the foreign religions became a culture</td>\n",
       "      <td>33</td>\n",
       "      <td>32</td>\n",
       "    </tr>\n",
       "    <tr>\n",
       "      <th>5326</th>\n",
       "      <td>5326</td>\n",
       "      <td>ID_bVtArWxY</td>\n",
       "      <td>START_ ìyẹn dá mi lójú hánún hánún” _END</td>\n",
       "      <td>of that i am percent certain”</td>\n",
       "      <td>8</td>\n",
       "      <td>6</td>\n",
       "    </tr>\n",
       "    <tr>\n",
       "      <th>3618</th>\n",
       "      <td>3618</td>\n",
       "      <td>ID_SWZanygs</td>\n",
       "      <td>START_ ìtàkùrọ̀sọ lórí ẹ̀rọ ìbánisọ̀rọ̀ _END</td>\n",
       "      <td>phone conversation</td>\n",
       "      <td>6</td>\n",
       "      <td>2</td>\n",
       "    </tr>\n",
       "    <tr>\n",
       "      <th>9366</th>\n",
       "      <td>9366</td>\n",
       "      <td>ID_wRrrZgiK</td>\n",
       "      <td>START_ ewúro ò fi tojo korò _END</td>\n",
       "      <td>the bitterleaf did not become bitter as a result of cowardice</td>\n",
       "      <td>7</td>\n",
       "      <td>11</td>\n",
       "    </tr>\n",
       "    <tr>\n",
       "      <th>8409</th>\n",
       "      <td>8409</td>\n",
       "      <td>ID_rXJBVjWM</td>\n",
       "      <td>START_ ọ̀rọ̀ wo ló wà lẹ́nu alaṣọ pípọ́n _END</td>\n",
       "      <td>what sort of speech can there be in the mouth of the person whose clothes are brown from dirt</td>\n",
       "      <td>9</td>\n",
       "      <td>19</td>\n",
       "    </tr>\n",
       "    <tr>\n",
       "      <th>1311</th>\n",
       "      <td>1311</td>\n",
       "      <td>ID_GWKFLBuX</td>\n",
       "      <td>START_ ó sì ti kojú ọ̀pọ̀ ìṣòro àìlera tó le ganan _END</td>\n",
       "      <td>her first procedure was when she was only days old</td>\n",
       "      <td>12</td>\n",
       "      <td>10</td>\n",
       "    </tr>\n",
       "    <tr>\n",
       "      <th>4828</th>\n",
       "      <td>4828</td>\n",
       "      <td>ID_YwCIExOM</td>\n",
       "      <td>START_ èké ìbídùn tí ń kí eégún “kú àtijọ́” _END</td>\n",
       "      <td>lying ìbídùn who greets a masquerader with “its been quite a while”</td>\n",
       "      <td>10</td>\n",
       "      <td>12</td>\n",
       "    </tr>\n",
       "    <tr>\n",
       "      <th>6716</th>\n",
       "      <td>6716</td>\n",
       "      <td>ID_illbApyU</td>\n",
       "      <td>START_ tí ìṣòro yẹn bá le ńkọ́ tó sì ń dáyà já mi’ ó ní jèhófà ò ní jẹ́ ká dán wa wò kọjá ohun tá a lè mú mọ́ra á sì fún wa lókun ká lè borí ìṣòro èyíkéyìí kọ́ríńtì _END</td>\n",
       "      <td>he said that jehovah will not allow us to be tested beyond what we can bear and he will give us the strength to overcome any trial corinthians</td>\n",
       "      <td>42</td>\n",
       "      <td>28</td>\n",
       "    </tr>\n",
       "    <tr>\n",
       "      <th>3132</th>\n",
       "      <td>3132</td>\n",
       "      <td>ID_PucNBKdx</td>\n",
       "      <td>START_ kí ìtípa yìí tó bẹ̀rẹ̀ àwọn akẹ́kọ̀ọ́ ní ooreọ̀fẹ́ sí ouńjẹ ọ̀fé ní iléìwé _END</td>\n",
       "      <td>prior to the lockdown learners were able to access free meals at school</td>\n",
       "      <td>16</td>\n",
       "      <td>13</td>\n",
       "    </tr>\n",
       "    <tr>\n",
       "      <th>2995</th>\n",
       "      <td>2995</td>\n",
       "      <td>ID_PJXXXWid</td>\n",
       "      <td>START_ má sọ bẹ́ẹ̀ mọ̀ _END</td>\n",
       "      <td>dont say that</td>\n",
       "      <td>6</td>\n",
       "      <td>3</td>\n",
       "    </tr>\n",
       "    <tr>\n",
       "      <th>9368</th>\n",
       "      <td>9368</td>\n",
       "      <td>ID_wSBLqwry</td>\n",
       "      <td>START_ àwọn akẹ̀kọ̀ọ́ paapọ̀ lọ́kọ̀ọ̀kan àti àwọn ẹgbẹ́ _END</td>\n",
       "      <td>both individual learners and groups</td>\n",
       "      <td>9</td>\n",
       "      <td>5</td>\n",
       "    </tr>\n",
       "    <tr>\n",
       "      <th>1082</th>\n",
       "      <td>1082</td>\n",
       "      <td>ID_FSfNAyPp</td>\n",
       "      <td>START_ láti ṣàfihàn mímú ikọ̀ yìí lọ́kùnúnkúndùn pàápàá jùlọ fún ikọ̀ náà láti lọ ṣàṣeyọrí nínú ìdíje yìí à ti san ọgbòn ọ̀kẹ́ owo dollar àti okòólélọ́ọ̀ọ́dúnrún mílíọ́nù owo naira n million láti pèsè àwọn ohun èlò lọ́lọ́kanòjọ̀kan fún ìgbáradì ní kíkún fún ìdíje bọ́ọ̀lù àgbáyé yìí _END</td>\n",
       "      <td>to demonstrate our commitment to achieving a successful world cup outing we have paid the sum of and n million to cover our contractual obligation of providing support to the technical crew of all the teams for the whole of well beyond the world cup”</td>\n",
       "      <td>48</td>\n",
       "      <td>45</td>\n",
       "    </tr>\n",
       "    <tr>\n",
       "      <th>6963</th>\n",
       "      <td>6963</td>\n",
       "      <td>ID_jzxSOiCC</td>\n",
       "      <td>START_ àwọn èdè tí wọ́n lò english tagalog _END</td>\n",
       "      <td>program languages english tagalog</td>\n",
       "      <td>9</td>\n",
       "      <td>4</td>\n",
       "    </tr>\n",
       "    <tr>\n",
       "      <th>2984</th>\n",
       "      <td>2984</td>\n",
       "      <td>ID_PEyBKvYc</td>\n",
       "      <td>START_ eégún tí yó gbeni là ń dáṣọ fún òrìṣà tí yó gbeni là ń sìn bi igí bá gbè mí mà kó obì mà bọ igi _END</td>\n",
       "      <td>it is the masquerader that succors one that one makes shrouds for it is the god that succors one that one worships if a tree succors me i will take kolanuts and worship the tree</td>\n",
       "      <td>28</td>\n",
       "      <td>35</td>\n",
       "    </tr>\n",
       "    <tr>\n",
       "      <th>6947</th>\n",
       "      <td>6947</td>\n",
       "      <td>ID_juLTYfGk</td>\n",
       "      <td>START_ tá a bá fi máa rọ́dún mẹ́wàá sí i tí ijọba bá ṣì ń ju àwa ẹlẹ́rìí jèhófà sẹ́wọn àtàwọn ibi tí wọ́n ti kó àwọn ẹlẹ́wọ̀n ṣiṣẹ́ á fẹ́rẹ̀ẹ́ tó ọgọ́rùnún méjì ẹlẹ́rìí jèhófà tó máa wà ní ojúkò kọ̀ọ̀kan _END</td>\n",
       "      <td>if for another ten years or so the government keeps putting jehovah’s witnesses in prisons and correctional colonies there will be about of them in each penal facility</td>\n",
       "      <td>43</td>\n",
       "      <td>28</td>\n",
       "    </tr>\n",
       "    <tr>\n",
       "      <th>3317</th>\n",
       "      <td>3317</td>\n",
       "      <td>ID_QsXZoyUe</td>\n",
       "      <td>START_ ó wá béèrè bóyá àwọn ẹsẹ ìwé mímọ́ míì tún wà tó ṣàlàyé ìdí táwọn nǹkan burúkú fi ń ṣẹ̀lẹ̀ láyé _END</td>\n",
       "      <td>she asked whether there are other verses in the bible that also speak about what is happening on the earth</td>\n",
       "      <td>23</td>\n",
       "      <td>20</td>\n",
       "    </tr>\n",
       "    <tr>\n",
       "      <th>6130</th>\n",
       "      <td>6130</td>\n",
       "      <td>ID_ffNHjkmN</td>\n",
       "      <td>START_ a kì í mú ìbọn tetere _END</td>\n",
       "      <td>one does not hold a gun carelessly</td>\n",
       "      <td>8</td>\n",
       "      <td>7</td>\n",
       "    </tr>\n",
       "    <tr>\n",
       "      <th>7643</th>\n",
       "      <td>7643</td>\n",
       "      <td>ID_nYkFJECm</td>\n",
       "      <td>START_ bí ẹrú yó bàá jẹ ìfun ibi ẹ̀dọ̀ níí tí ń bẹ̀rẹ̀ _END</td>\n",
       "      <td>a slave that would eat intestines must begin with the liver</td>\n",
       "      <td>14</td>\n",
       "      <td>11</td>\n",
       "    </tr>\n",
       "    <tr>\n",
       "      <th>6983</th>\n",
       "      <td>6983</td>\n",
       "      <td>ID_kEWLoctu</td>\n",
       "      <td>START_ àdúrà wa ni pé kí jèhófà máa bá a lọ láti fún arákùnrin moskalenko ní okun tó nílò kó lè máa fara dà á pẹ̀lú ìdùnnú láìka ohun tó lé jẹ́ àbájáde ìdájọ́ náà​— tẹsalóníkà _END</td>\n",
       "      <td>we pray he continues to give brother moskalenko the strength needed to endure with joy no matter the outcome of next week’s verdict— thessalonians</td>\n",
       "      <td>37</td>\n",
       "      <td>24</td>\n",
       "    </tr>\n",
       "  </tbody>\n",
       "</table>\n",
       "</div>"
      ],
      "text/plain": [
       "      Unnamed: 0           ID                                                                                                                                                                                                                                                                                           Yoruba                                                                                                                                                                                                                                                     English  length_yor_sentence  length_eng_sentence\n",
       "9868  9868        ID_zJJUnaOb  START_ nígbà náà ńkọ́ _END                                                                                                                                                                                                                                                                       and so                                                                                                                                                                                                                                                      5                    2                  \n",
       "1881  1881        ID_JYsNmnFP  START_ wọ́n ní ká sọ̀rọ̀ ká bá a bẹ́ẹ̀ ni eegun òótọ́ baba òpùrọ́ ni ẹni náà tí ó sọ wípé a ò mọ ọlọ́run àyàfi ìgbà tí ẹ̀sìn òkèèrè di àṣà _END                                                                                                                                                  they say that speaking and confirming it is the bone of truth father of liar is anyone that says that we do not know god until the foreign religions became a culture                                                                                       33                   32                 \n",
       "5326  5326        ID_bVtArWxY  START_ ìyẹn dá mi lójú hánún hánún” _END                                                                                                                                                                                                                                                         of that i am percent certain”                                                                                                                                                                                                                               8                    6                  \n",
       "3618  3618        ID_SWZanygs  START_ ìtàkùrọ̀sọ lórí ẹ̀rọ ìbánisọ̀rọ̀ _END                                                                                                                                                                                                                                                     phone conversation                                                                                                                                                                                                                                          6                    2                  \n",
       "9366  9366        ID_wRrrZgiK  START_ ewúro ò fi tojo korò _END                                                                                                                                                                                                                                                                 the bitterleaf did not become bitter as a result of cowardice                                                                                                                                                                                               7                    11                 \n",
       "8409  8409        ID_rXJBVjWM  START_ ọ̀rọ̀ wo ló wà lẹ́nu alaṣọ pípọ́n _END                                                                                                                                                                                                                                                    what sort of speech can there be in the mouth of the person whose clothes are brown from dirt                                                                                                                                                               9                    19                 \n",
       "1311  1311        ID_GWKFLBuX  START_ ó sì ti kojú ọ̀pọ̀ ìṣòro àìlera tó le ganan _END                                                                                                                                                                                                                                          her first procedure was when she was only days old                                                                                                                                                                                                          12                   10                 \n",
       "4828  4828        ID_YwCIExOM  START_ èké ìbídùn tí ń kí eégún “kú àtijọ́” _END                                                                                                                                                                                                                                                 lying ìbídùn who greets a masquerader with “its been quite a while”                                                                                                                                                                                         10                   12                 \n",
       "6716  6716        ID_illbApyU  START_ tí ìṣòro yẹn bá le ńkọ́ tó sì ń dáyà já mi’ ó ní jèhófà ò ní jẹ́ ká dán wa wò kọjá ohun tá a lè mú mọ́ra á sì fún wa lókun ká lè borí ìṣòro èyíkéyìí kọ́ríńtì _END                                                                                                                        he said that jehovah will not allow us to be tested beyond what we can bear and he will give us the strength to overcome any trial corinthians                                                                                                              42                   28                 \n",
       "3132  3132        ID_PucNBKdx  START_ kí ìtípa yìí tó bẹ̀rẹ̀ àwọn akẹ́kọ̀ọ́ ní ooreọ̀fẹ́ sí ouńjẹ ọ̀fé ní iléìwé _END                                                                                                                                                                                                           prior to the lockdown learners were able to access free meals at school                                                                                                                                                                                     16                   13                 \n",
       "2995  2995        ID_PJXXXWid  START_ má sọ bẹ́ẹ̀ mọ̀ _END                                                                                                                                                                                                                                                                      dont say that                                                                                                                                                                                                                                               6                    3                  \n",
       "9368  9368        ID_wSBLqwry  START_ àwọn akẹ̀kọ̀ọ́ paapọ̀ lọ́kọ̀ọ̀kan àti àwọn ẹgbẹ́ _END                                                                                                                                                                                                                                     both individual learners and groups                                                                                                                                                                                                                         9                    5                  \n",
       "1082  1082        ID_FSfNAyPp  START_ láti ṣàfihàn mímú ikọ̀ yìí lọ́kùnúnkúndùn pàápàá jùlọ fún ikọ̀ náà láti lọ ṣàṣeyọrí nínú ìdíje yìí à ti san ọgbòn ọ̀kẹ́ owo dollar àti okòólélọ́ọ̀ọ́dúnrún mílíọ́nù owo naira n million láti pèsè àwọn ohun èlò lọ́lọ́kanòjọ̀kan fún ìgbáradì ní kíkún fún ìdíje bọ́ọ̀lù àgbáyé yìí _END  to demonstrate our commitment to achieving a successful world cup outing we have paid the sum of and n million to cover our contractual obligation of providing support to the technical crew of all the teams for the whole of well beyond the world cup”  48                   45                 \n",
       "6963  6963        ID_jzxSOiCC  START_ àwọn èdè tí wọ́n lò english tagalog _END                                                                                                                                                                                                                                                  program languages english tagalog                                                                                                                                                                                                                           9                    4                  \n",
       "2984  2984        ID_PEyBKvYc  START_ eégún tí yó gbeni là ń dáṣọ fún òrìṣà tí yó gbeni là ń sìn bi igí bá gbè mí mà kó obì mà bọ igi _END                                                                                                                                                                                      it is the masquerader that succors one that one makes shrouds for it is the god that succors one that one worships if a tree succors me i will take kolanuts and worship the tree                                                                           28                   35                 \n",
       "6947  6947        ID_juLTYfGk  START_ tá a bá fi máa rọ́dún mẹ́wàá sí i tí ijọba bá ṣì ń ju àwa ẹlẹ́rìí jèhófà sẹ́wọn àtàwọn ibi tí wọ́n ti kó àwọn ẹlẹ́wọ̀n ṣiṣẹ́ á fẹ́rẹ̀ẹ́ tó ọgọ́rùnún méjì ẹlẹ́rìí jèhófà tó máa wà ní ojúkò kọ̀ọ̀kan _END                                                                                 if for another ten years or so the government keeps putting jehovah’s witnesses in prisons and correctional colonies there will be about of them in each penal facility                                                                                     43                   28                 \n",
       "3317  3317        ID_QsXZoyUe  START_ ó wá béèrè bóyá àwọn ẹsẹ ìwé mímọ́ míì tún wà tó ṣàlàyé ìdí táwọn nǹkan burúkú fi ń ṣẹ̀lẹ̀ láyé _END                                                                                                                                                                                      she asked whether there are other verses in the bible that also speak about what is happening on the earth                                                                                                                                                  23                   20                 \n",
       "6130  6130        ID_ffNHjkmN  START_ a kì í mú ìbọn tetere _END                                                                                                                                                                                                                                                                one does not hold a gun carelessly                                                                                                                                                                                                                          8                    7                  \n",
       "7643  7643        ID_nYkFJECm  START_ bí ẹrú yó bàá jẹ ìfun ibi ẹ̀dọ̀ níí tí ń bẹ̀rẹ̀ _END                                                                                                                                                                                                                                      a slave that would eat intestines must begin with the liver                                                                                                                                                                                                 14                   11                 \n",
       "6983  6983        ID_kEWLoctu  START_ àdúrà wa ni pé kí jèhófà máa bá a lọ láti fún arákùnrin moskalenko ní okun tó nílò kó lè máa fara dà á pẹ̀lú ìdùnnú láìka ohun tó lé jẹ́ àbájáde ìdájọ́ náà​— tẹsalóníkà _END                                                                                                             we pray he continues to give brother moskalenko the strength needed to endure with joy no matter the outcome of next week’s verdict— thessalonians                                                                                                          37                   24                 "
      ]
     },
     "execution_count": 65,
     "metadata": {},
     "output_type": "execute_result"
    }
   ],
   "source": [
    "train = shuffle(train)\n",
    "train.head(20)"
   ]
  },
  {
   "cell_type": "code",
   "execution_count": 66,
   "metadata": {},
   "outputs": [
    {
     "data": {
      "text/plain": [
       "((8007,), (2002,), (8007,), (2002,))"
      ]
     },
     "execution_count": 66,
     "metadata": {},
     "output_type": "execute_result"
    }
   ],
   "source": [
    "#Split the train data into train and test\n",
    "X, y = train[\"Yoruba\"], train[\"English\"]\n",
    "X_train, X_test, y_train, y_test = train_test_split(X, y, test_size = 0.2,random_state=42)\n",
    "X_train.shape, X_test.shape, y_train.shape, y_test.shape"
   ]
  },
  {
   "cell_type": "code",
   "execution_count": 67,
   "metadata": {},
   "outputs": [],
   "source": [
    "#Save data\n",
    "X_train.to_pickle('X_train.pkl')\n",
    "X_test.to_pickle('X_test.pkl')"
   ]
  },
  {
   "cell_type": "code",
   "execution_count": 68,
   "metadata": {},
   "outputs": [],
   "source": [
    "# Encoder Decoder Architecture"
   ]
  },
  {
   "cell_type": "code",
   "execution_count": 69,
   "metadata": {},
   "outputs": [],
   "source": [
    "def generate_batch(X = X_train, y = y_train, batch_size = 128):\n",
    "    ''' Generate a batch of data '''\n",
    "    while True:\n",
    "        for j in range(0, len(X), batch_size):\n",
    "            encoder_input_data = np.zeros((batch_size, max_length_src),dtype='float32')\n",
    "            decoder_input_data = np.zeros((batch_size, max_length_tar),dtype='float32')\n",
    "            decoder_target_data = np.zeros((batch_size, max_length_tar, num_decoder_tokens),dtype='float32')\n",
    "            for i, (input_text, target_text) in enumerate(zip(X[j:j+batch_size], y[j:j+batch_size])):\n",
    "                for t, word in enumerate(input_text.split()):\n",
    "                    encoder_input_data[i, t] = input_token_index[word] # encoder input seq\n",
    "                for t, word in enumerate(target_text.split()):\n",
    "                    if t<len(target_text.split())-1:\n",
    "                        decoder_input_data[i, t] = target_token_index[word] # decoder input seq\n",
    "                    if t>0:\n",
    "                        # decoder target sequence (one hot encoded)\n",
    "                        # does not include the START_ token\n",
    "                        # Offset by one timestep\n",
    "                        decoder_target_data[i, t - 1, target_token_index[word]] = 1\n",
    "            yield([encoder_input_data, decoder_input_data], decoder_target_data)"
   ]
  },
  {
   "cell_type": "code",
   "execution_count": 70,
   "metadata": {},
   "outputs": [],
   "source": [
    "latent_dim=300"
   ]
  },
  {
   "cell_type": "code",
   "execution_count": 71,
   "metadata": {},
   "outputs": [],
   "source": [
    "# Encoder\n",
    "encoder_inputs = Input(shape=(None,))\n",
    "enc_emb =  Embedding(num_encoder_tokens, latent_dim, mask_zero = True)(encoder_inputs)\n",
    "encoder_lstm = LSTM(latent_dim, return_state=True)\n",
    "encoder_outputs, state_h, state_c = encoder_lstm(enc_emb)\n",
    "# We discard `encoder_outputs` and only keep the states.\n",
    "encoder_states = [state_h, state_c]"
   ]
  },
  {
   "cell_type": "code",
   "execution_count": 72,
   "metadata": {},
   "outputs": [],
   "source": [
    "# Set up the decoder, using `encoder_states` as initial state.\n",
    "decoder_inputs = Input(shape=(None,))\n",
    "dec_emb_layer = Embedding(num_decoder_tokens, latent_dim, mask_zero = True)\n",
    "dec_emb = dec_emb_layer(decoder_inputs)\n",
    "# We set up our decoder to return full output sequences,\n",
    "# and to return internal states as well. We don't use the\n",
    "# return states in the training model, but we will use them in inference.\n",
    "decoder_lstm = LSTM(latent_dim, return_sequences=True, return_state=True)\n",
    "decoder_outputs, _, _ = decoder_lstm(dec_emb,\n",
    "                                     initial_state=encoder_states)\n",
    "decoder_dense = Dense(num_decoder_tokens, activation='softmax')\n",
    "decoder_outputs = decoder_dense(decoder_outputs)\n",
    "\n",
    "# Define the model that will turn\n",
    "# `encoder_input_data` & `decoder_input_data` into `decoder_target_data`\n",
    "model = Model([encoder_inputs, decoder_inputs], decoder_outputs)"
   ]
  },
  {
   "cell_type": "code",
   "execution_count": 73,
   "metadata": {},
   "outputs": [],
   "source": [
    "model.compile(optimizer='rmsprop', loss='categorical_crossentropy')"
   ]
  },
  {
   "cell_type": "code",
   "execution_count": 74,
   "metadata": {},
   "outputs": [
    {
     "name": "stdout",
     "output_type": "stream",
     "text": [
      "Model: \"model_3\"\n",
      "__________________________________________________________________________________________________\n",
      "Layer (type)                    Output Shape         Param #     Connected to                     \n",
      "==================================================================================================\n",
      "input_5 (InputLayer)            (None, None)         0                                            \n",
      "__________________________________________________________________________________________________\n",
      "input_6 (InputLayer)            (None, None)         0                                            \n",
      "__________________________________________________________________________________________________\n",
      "embedding_5 (Embedding)         (None, None, 300)    4737900     input_5[0][0]                    \n",
      "__________________________________________________________________________________________________\n",
      "embedding_6 (Embedding)         (None, None, 300)    4895400     input_6[0][0]                    \n",
      "__________________________________________________________________________________________________\n",
      "lstm_5 (LSTM)                   [(None, 300), (None, 721200      embedding_5[0][0]                \n",
      "__________________________________________________________________________________________________\n",
      "lstm_6 (LSTM)                   [(None, None, 300),  721200      embedding_6[0][0]                \n",
      "                                                                 lstm_5[0][1]                     \n",
      "                                                                 lstm_5[0][2]                     \n",
      "__________________________________________________________________________________________________\n",
      "dense_3 (Dense)                 (None, None, 16318)  4911718     lstm_6[0][0]                     \n",
      "==================================================================================================\n",
      "Total params: 15,987,418\n",
      "Trainable params: 15,987,418\n",
      "Non-trainable params: 0\n",
      "__________________________________________________________________________________________________\n"
     ]
    }
   ],
   "source": [
    "model.summary()"
   ]
  },
  {
   "cell_type": "code",
   "execution_count": 75,
   "metadata": {},
   "outputs": [],
   "source": [
    "train_samples = len(X_train)\n",
    "val_samples = len(X_test)\n",
    "batch_size = 128\n",
    "epochs = 100"
   ]
  },
  {
   "cell_type": "code",
   "execution_count": 76,
   "metadata": {},
   "outputs": [
    {
     "name": "stdout",
     "output_type": "stream",
     "text": [
      "8007\n"
     ]
    }
   ],
   "source": [
    "print(train_samples)"
   ]
  },
  {
   "cell_type": "code",
   "execution_count": 77,
   "metadata": {},
   "outputs": [
    {
     "name": "stdout",
     "output_type": "stream",
     "text": [
      "2002\n"
     ]
    }
   ],
   "source": [
    "print(val_samples)"
   ]
  },
  {
   "cell_type": "code",
   "execution_count": 78,
   "metadata": {},
   "outputs": [],
   "source": [
    "gen = generate_batch(X_train, y_train, batch_size = batch_size)\n",
    "gen_val = generate_batch(X_test, y_test, batch_size = batch_size)"
   ]
  },
  {
   "cell_type": "code",
   "execution_count": 79,
   "metadata": {},
   "outputs": [
    {
     "data": {
      "text/plain": [
       "15"
      ]
     },
     "execution_count": 79,
     "metadata": {},
     "output_type": "execute_result"
    }
   ],
   "source": [
    "steps_per_epoch = train_samples//batch_size\n",
    "validation_steps = val_samples//batch_size\n",
    "validation_steps"
   ]
  },
  {
   "cell_type": "code",
   "execution_count": null,
   "metadata": {},
   "outputs": [
    {
     "name": "stdout",
     "output_type": "stream",
     "text": [
      "Epoch 1/100\n"
     ]
    }
   ],
   "source": [
    "model.fit_generator(generator = gen, \n",
    "                    steps_per_epoch = steps_per_epoch,\n",
    "                    epochs=epochs, validation_data = gen_val, validation_steps = validation_steps)\n",
    "\n",
    "# model.fit_generator(generator = generate_batch(X_train, y_train, batch_size = batch_size),\n",
    "# steps_per_epoch = train_samples//batch_size,\n",
    "# epochs=epochs,\n",
    "# validation_data = generate_batch(X_test, y_test, batch_size = batch_size),\n",
    "# validation_steps = val_samples//batch_size)"
   ]
  },
  {
   "cell_type": "code",
   "execution_count": null,
   "metadata": {},
   "outputs": [],
   "source": [
    "print(len(decoder_input_data))"
   ]
  },
  {
   "cell_type": "code",
   "execution_count": null,
   "metadata": {},
   "outputs": [],
   "source": []
  }
 ],
 "metadata": {
  "colab": {
   "name": "Yoruba Neural Machine Translation.ipynb",
   "provenance": []
  },
  "kernelspec": {
   "display_name": "Python 3",
   "language": "python",
   "name": "python3"
  },
  "language_info": {
   "codemirror_mode": {
    "name": "ipython",
    "version": 3
   },
   "file_extension": ".py",
   "mimetype": "text/x-python",
   "name": "python",
   "nbconvert_exporter": "python",
   "pygments_lexer": "ipython3",
   "version": "3.7.4"
  }
 },
 "nbformat": 4,
 "nbformat_minor": 1
}
