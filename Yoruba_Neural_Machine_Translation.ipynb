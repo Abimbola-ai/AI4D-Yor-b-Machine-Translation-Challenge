{
 "cells": [
  {
   "cell_type": "code",
   "execution_count": 1,
   "metadata": {
    "colab": {
     "base_uri": "https://localhost:8080/"
    },
    "id": "JbnYCjFhckT2",
    "outputId": "bf3d0540-f9a1-489a-d21c-07f27fe4145c"
   },
   "outputs": [
    {
     "name": "stderr",
     "output_type": "stream",
     "text": [
      "/Applications/anaconda3/lib/python3.7/site-packages/statsmodels/tools/_testing.py:19: FutureWarning: pandas.util.testing is deprecated. Use the functions in the public API at pandas.testing instead.\n",
      "  import pandas.util.testing as tm\n",
      "Using TensorFlow backend.\n",
      "/Applications/anaconda3/lib/python3.7/site-packages/tensorflow/python/framework/dtypes.py:516: FutureWarning: Passing (type, 1) or '1type' as a synonym of type is deprecated; in a future version of numpy, it will be understood as (type, (1,)) / '(1,)type'.\n",
      "  _np_qint8 = np.dtype([(\"qint8\", np.int8, 1)])\n",
      "/Applications/anaconda3/lib/python3.7/site-packages/tensorflow/python/framework/dtypes.py:517: FutureWarning: Passing (type, 1) or '1type' as a synonym of type is deprecated; in a future version of numpy, it will be understood as (type, (1,)) / '(1,)type'.\n",
      "  _np_quint8 = np.dtype([(\"quint8\", np.uint8, 1)])\n",
      "/Applications/anaconda3/lib/python3.7/site-packages/tensorflow/python/framework/dtypes.py:518: FutureWarning: Passing (type, 1) or '1type' as a synonym of type is deprecated; in a future version of numpy, it will be understood as (type, (1,)) / '(1,)type'.\n",
      "  _np_qint16 = np.dtype([(\"qint16\", np.int16, 1)])\n",
      "/Applications/anaconda3/lib/python3.7/site-packages/tensorflow/python/framework/dtypes.py:519: FutureWarning: Passing (type, 1) or '1type' as a synonym of type is deprecated; in a future version of numpy, it will be understood as (type, (1,)) / '(1,)type'.\n",
      "  _np_quint16 = np.dtype([(\"quint16\", np.uint16, 1)])\n",
      "/Applications/anaconda3/lib/python3.7/site-packages/tensorflow/python/framework/dtypes.py:520: FutureWarning: Passing (type, 1) or '1type' as a synonym of type is deprecated; in a future version of numpy, it will be understood as (type, (1,)) / '(1,)type'.\n",
      "  _np_qint32 = np.dtype([(\"qint32\", np.int32, 1)])\n",
      "/Applications/anaconda3/lib/python3.7/site-packages/tensorflow/python/framework/dtypes.py:525: FutureWarning: Passing (type, 1) or '1type' as a synonym of type is deprecated; in a future version of numpy, it will be understood as (type, (1,)) / '(1,)type'.\n",
      "  np_resource = np.dtype([(\"resource\", np.ubyte, 1)])\n",
      "/Applications/anaconda3/lib/python3.7/site-packages/tensorboard/compat/tensorflow_stub/dtypes.py:541: FutureWarning: Passing (type, 1) or '1type' as a synonym of type is deprecated; in a future version of numpy, it will be understood as (type, (1,)) / '(1,)type'.\n",
      "  _np_qint8 = np.dtype([(\"qint8\", np.int8, 1)])\n",
      "/Applications/anaconda3/lib/python3.7/site-packages/tensorboard/compat/tensorflow_stub/dtypes.py:542: FutureWarning: Passing (type, 1) or '1type' as a synonym of type is deprecated; in a future version of numpy, it will be understood as (type, (1,)) / '(1,)type'.\n",
      "  _np_quint8 = np.dtype([(\"quint8\", np.uint8, 1)])\n",
      "/Applications/anaconda3/lib/python3.7/site-packages/tensorboard/compat/tensorflow_stub/dtypes.py:543: FutureWarning: Passing (type, 1) or '1type' as a synonym of type is deprecated; in a future version of numpy, it will be understood as (type, (1,)) / '(1,)type'.\n",
      "  _np_qint16 = np.dtype([(\"qint16\", np.int16, 1)])\n",
      "/Applications/anaconda3/lib/python3.7/site-packages/tensorboard/compat/tensorflow_stub/dtypes.py:544: FutureWarning: Passing (type, 1) or '1type' as a synonym of type is deprecated; in a future version of numpy, it will be understood as (type, (1,)) / '(1,)type'.\n",
      "  _np_quint16 = np.dtype([(\"quint16\", np.uint16, 1)])\n",
      "/Applications/anaconda3/lib/python3.7/site-packages/tensorboard/compat/tensorflow_stub/dtypes.py:545: FutureWarning: Passing (type, 1) or '1type' as a synonym of type is deprecated; in a future version of numpy, it will be understood as (type, (1,)) / '(1,)type'.\n",
      "  _np_qint32 = np.dtype([(\"qint32\", np.int32, 1)])\n",
      "/Applications/anaconda3/lib/python3.7/site-packages/tensorboard/compat/tensorflow_stub/dtypes.py:550: FutureWarning: Passing (type, 1) or '1type' as a synonym of type is deprecated; in a future version of numpy, it will be understood as (type, (1,)) / '(1,)type'.\n",
      "  np_resource = np.dtype([(\"resource\", np.ubyte, 1)])\n"
     ]
    }
   ],
   "source": [
    "\n",
    "import numpy as np # linear algebra\n",
    "import pandas as pd # data processing, CSV file I/O (e.g. pd.read_csv)\n",
    "\n",
    "\n",
    "\n",
    "import os\n",
    "import string\n",
    "from string import digits\n",
    "import matplotlib.pyplot as plt\n",
    "%matplotlib inline\n",
    "import re\n",
    "\n",
    "import seaborn as sns\n",
    "from sklearn.utils import shuffle\n",
    "from sklearn.model_selection import train_test_split\n",
    "from keras.layers import Input, LSTM, Embedding, Dense\n",
    "from keras.models import Model\n",
    "\n",
    "\n",
    "pd.set_option('display.max_rows', 500)\n",
    "pd.set_option('display.max_columns', 500)\n",
    "pd.set_option('display.width', 1000)\n",
    "pd.set_option('display.max_colwidth', 1)\n"
   ]
  },
  {
   "cell_type": "code",
   "execution_count": 2,
   "metadata": {},
   "outputs": [],
   "source": [
    "train = pd.read_csv(\"train.csv\",encoding='utf-8')"
   ]
  },
  {
   "cell_type": "code",
   "execution_count": 3,
   "metadata": {},
   "outputs": [
    {
     "data": {
      "text/html": [
       "<div>\n",
       "<style scoped>\n",
       "    .dataframe tbody tr th:only-of-type {\n",
       "        vertical-align: middle;\n",
       "    }\n",
       "\n",
       "    .dataframe tbody tr th {\n",
       "        vertical-align: top;\n",
       "    }\n",
       "\n",
       "    .dataframe thead th {\n",
       "        text-align: right;\n",
       "    }\n",
       "</style>\n",
       "<table border=\"1\" class=\"dataframe\">\n",
       "  <thead>\n",
       "    <tr style=\"text-align: right;\">\n",
       "      <th></th>\n",
       "      <th>Unnamed: 0</th>\n",
       "      <th>ID</th>\n",
       "      <th>Yoruba</th>\n",
       "      <th>English</th>\n",
       "    </tr>\n",
       "  </thead>\n",
       "  <tbody>\n",
       "    <tr>\n",
       "      <th>0</th>\n",
       "      <td>0</td>\n",
       "      <td>ID_AAJEQLCz</td>\n",
       "      <td>A ṣètò Ìgbìmọ̀ Tó Ń Ṣètò Ìrànwọ́ Nígbà Àjálù láti wá bí àwọn ará wa níbẹ̀ ṣe máa rí àwọn nǹkan tí wọ́n máa nílò lọ́jọ́ iwájú.</td>\n",
       "      <td>A Disaster Relief Committee was formed to organize the long-term relief efforts.</td>\n",
       "    </tr>\n",
       "    <tr>\n",
       "      <th>1</th>\n",
       "      <td>1</td>\n",
       "      <td>ID_AASNedba</td>\n",
       "      <td>Ìrọ̀lẹ́ May 22, 2018 ni wọ́n fàṣẹ ọba mú Arákùnrin Solovyev ní ibùdókọ̀ ojú irin nígbà tí òun àti Anna ìyàwó rẹ̀ ń bọ̀ láti ìrìn-àjò tí wọ́n lọ lórílẹ̀-èdè míì.</td>\n",
       "      <td>Brother Solovyev was arrested on the evening of May 22, 2018, at a railway station, as he was arriving home from a trip abroad with his wife, Anna.</td>\n",
       "    </tr>\n",
       "    <tr>\n",
       "      <th>2</th>\n",
       "      <td>2</td>\n",
       "      <td>ID_AAeQrhMq</td>\n",
       "      <td>Iléeṣẹ́ Creative Commons náà</td>\n",
       "      <td>Creative Commons the Organization</td>\n",
       "    </tr>\n",
       "    <tr>\n",
       "      <th>3</th>\n",
       "      <td>3</td>\n",
       "      <td>ID_AAxlMgPP</td>\n",
       "      <td>Pè̩lú Egypt, Morocco àti Tunisia tí wó̩n ti lo̩lé, Senegal nìkan lorílè̩èdè adúláwò̩ kan tó kù, wo̩n á fe̩sè̩wo̩nsè̩ pè̩lú Colombia ni ìfe̩sè̩wo̩nsè̩ tó ké̩yìn ikò̩ H ló̩jó̩bò̩.</td>\n",
       "      <td>With Egypt, Morocco and Tunisia out of the World Cup, Senegal, the only African nation left,  will take on Columbia in their last group H game on Thursday.</td>\n",
       "    </tr>\n",
       "    <tr>\n",
       "      <th>4</th>\n",
       "      <td>4</td>\n",
       "      <td>ID_ABKuMKSx</td>\n",
       "      <td>Adájọ́ àgbà lórílẹ̀ èdè Náíjíríà (Attorney General of the Federation), Justice Abubakar Malami ti pàsẹ fún ilé-isẹ́ ọ̀tẹlẹ̀múyẹ́ (Department of State Services, DSS) láti jáwọ́ lórí ẹ̀sun Omoyẹle Sowore ní kíákíá.</td>\n",
       "      <td>The Attorney General of the Federation, Justice Abubakar Malami has ordered the Department of State Services (DSS) to hands off the trial of Omoyele Sowore.</td>\n",
       "    </tr>\n",
       "    <tr>\n",
       "      <th>5</th>\n",
       "      <td>5</td>\n",
       "      <td>ID_ABOgDsPv</td>\n",
       "      <td>Ìpilẹ̀ ọrọ̀ọ́ lẹ́gbin.</td>\n",
       "      <td>The beginning of wealth is chock-full of filth.</td>\n",
       "    </tr>\n",
       "    <tr>\n",
       "      <th>6</th>\n",
       "      <td>6</td>\n",
       "      <td>ID_ABPBNrvn</td>\n",
       "      <td>Ní tòótọ́, nígbà tí mo bá bẹ̀rẹ̀ sí sáré káàkiri tí mò ń sọ pé, “Hey, ọmọkùnrin àti ọmọbìnrin, onímọ̀ nípa ààrun ọkàn niyín ní orílẹ̀-ède US, ǹjẹ́ ẹ lè tẹ̀lé mi padà sílé ká lọ ṣe iṣẹ́ pátàkì kan?</td>\n",
       "      <td>In fact, when I start running around saying, \"Hey, boys and girls, you're cardiologists in the U.S, can you come home with me and do a mission?</td>\n",
       "    </tr>\n",
       "    <tr>\n",
       "      <th>7</th>\n",
       "      <td>7</td>\n",
       "      <td>ID_ABRvCeJZ</td>\n",
       "      <td>\"Ní September 2, 2019, Ilé Ẹjọ́ Àgbègbè Zheleznodorozhniy ní ìlú Khabarovsk lórílẹ̀-èdè Rọ́ṣíà dájọ́ pé kí Arákùnrin Valeriy Moskalenko lọ ṣe iṣẹ́ àṣesìnlú fún ọdún méjì àti oṣù méjì.</td>\n",
       "      <td>\"On September 2, 2019, the Zheleznodorozhniy District Court of Khabarovsk, Russia, sentenced Brother Valeriy Moskalenko to two years and two months of community service and another six months of probation.</td>\n",
       "    </tr>\n",
       "    <tr>\n",
       "      <th>8</th>\n",
       "      <td>8</td>\n",
       "      <td>ID_ABfNHLLl</td>\n",
       "      <td>Olóògùn ní ńṣe bí a-láigbọ́-mọ̀ràn; bí ogun ó bàá wọ̀lú ọlọgbọ́n là ńfọ̀rọ̀ lọ̀.</td>\n",
       "      <td>The medicine man behaves like a person impervious to wise counsel; if war threatens a town the person to consult for counsel is the sage.</td>\n",
       "    </tr>\n",
       "    <tr>\n",
       "      <th>9</th>\n",
       "      <td>9</td>\n",
       "      <td>ID_ABifvERa</td>\n",
       "      <td>Wọ́n mú Anton Lemeshev tó jẹ́ alàgbà, wọ́n sì fi sí àtìmọ́lé fún oṣù méjì kí wọ́n tó gbọ́ ẹjọ́ rẹ̀.</td>\n",
       "      <td>Anton Lemeshev, an elder, was arrested and then sentenced to pretrial detention for two months.</td>\n",
       "    </tr>\n",
       "    <tr>\n",
       "      <th>10</th>\n",
       "      <td>10</td>\n",
       "      <td>ID_ACXnXIuR</td>\n",
       "      <td>Òtòṣì ò gbọ́ tìṣẹ́ ẹ̀ ó ní ogún kó àparò; ọdẹ́ rorò.</td>\n",
       "      <td>The destitute person does not look to repairing his fortune; he says the partidge has been captured in a war, for the hunter is merciless.</td>\n",
       "    </tr>\n",
       "    <tr>\n",
       "      <th>11</th>\n",
       "      <td>11</td>\n",
       "      <td>ID_ACaRPExL</td>\n",
       "      <td>Ọ̀gá ọlọ́ọ̀pá gbóṣùbà ràbàndẹ̀ fún olùtónisónà rẹ̀ fún iṣẹ́ ribiribi ó sì tẹ̀síwájú pé ohun náà lófa ti àṣeyọrí àwọn ọlọ́ọ̀pá olùgbanisílẹ̀ tí wọn rí àwọn ọ̀daràn mú pẹ̀lú àwọn oun ìjà tí wọn rígbà.</td>\n",
       "      <td>The Police boss commended his mentor for a good job, and maintained that the mind boggling arrests and arms recoveries were a testament to the efficiency of the rescue team.</td>\n",
       "    </tr>\n",
       "    <tr>\n",
       "      <th>12</th>\n",
       "      <td>12</td>\n",
       "      <td>ID_ACaztIeD</td>\n",
       "      <td>Ẹ̀yin gan ni ọ̀daràn</td>\n",
       "      <td>In fact you are the criminal</td>\n",
       "    </tr>\n",
       "    <tr>\n",
       "      <th>13</th>\n",
       "      <td>13</td>\n",
       "      <td>ID_ACsRCYIg</td>\n",
       "      <td>Mo rò wí pé mo wà láàrín-gbùgbun àgbáyé ni.</td>\n",
       "      <td>I literally thought I was in the center of the universe.</td>\n",
       "    </tr>\n",
       "    <tr>\n",
       "      <th>14</th>\n",
       "      <td>14</td>\n",
       "      <td>ID_ADKVAumy</td>\n",
       "      <td>Ṣùgbọ́n mi ò mọ nǹkan tí ẹ̀ ń sọ</td>\n",
       "      <td>But I don't know what you guys are talking about</td>\n",
       "    </tr>\n",
       "    <tr>\n",
       "      <th>15</th>\n",
       "      <td>15</td>\n",
       "      <td>ID_ADUlptKz</td>\n",
       "      <td>Omíyalé náà mú kí àwọn odò tó wà lágbègbè náà kún kọjá ààlà, àwọn ibi tó ń gba omi dúró ya lulẹ̀, ó ba ọ̀pọ̀lọpọ̀ ilé jẹ́, ó sì pa ó kéré tán èèyàn mẹ́rin.</td>\n",
       "      <td>As rivers in the area rose to historic levels, water breached dams and levees, damaging hundreds of homes and killing at least four people.</td>\n",
       "    </tr>\n",
       "    <tr>\n",
       "      <th>16</th>\n",
       "      <td>16</td>\n",
       "      <td>ID_ADWbtnfg</td>\n",
       "      <td>Bí iṣẹ́ kò pẹ́ ẹni, a kì í pẹ́ iṣẹ́.</td>\n",
       "      <td>If a task does not delay one, one does not drag it out.</td>\n",
       "    </tr>\n",
       "    <tr>\n",
       "      <th>17</th>\n",
       "      <td>17</td>\n",
       "      <td>ID_ADaIBCnH</td>\n",
       "      <td>Ẹ̀dà Bíbélì ìpilẹ̀ṣẹ̀ Christian III ti ọdún 1550 Erik Jørgensen tó wà ní ẹ̀ka ọ́fíìsì orílẹ̀-èdè Scandinavia sọ pé: “Ibi tuntun tí wọ́n ń kó onírúurú Bíbélì sí yìí ti jẹ́ ka rí i pé láti ọ̀pọ̀ ọdún sẹ́yìn làwọn ará Scandinavia ti ní ìfẹ́ tó jinlẹ̀ fún Ọrọ̀ Ọlọ́run àti orúkọ rẹ̀ tí kò lẹ́gbẹ́, ìyẹn Jèhófà.”</td>\n",
       "      <td>An original copy of the 1550 Christian III Bible Erik Jørgensen from the Scandinavia branch office comments: “This new Bible museum demonstrates the deep respect that has existed for centuries in Scandinavia for both God’s Word and his majestic name, Jehovah.”</td>\n",
       "    </tr>\n",
       "    <tr>\n",
       "      <th>18</th>\n",
       "      <td>18</td>\n",
       "      <td>ID_ADiGUwbB</td>\n",
       "      <td>Wíwòó tó ìran.</td>\n",
       "      <td>Watching is enough for a spectacle.</td>\n",
       "    </tr>\n",
       "    <tr>\n",
       "      <th>19</th>\n",
       "      <td>19</td>\n",
       "      <td>ID_ADwCeiLA</td>\n",
       "      <td>Pẹlu ọkàn ìfẹ́ yìí ni a fi yan ewé P láàyò ní yàrá ìwádìí wa</td>\n",
       "      <td>It is with this interest that in our laboratory we chose a plant P</td>\n",
       "    </tr>\n",
       "  </tbody>\n",
       "</table>\n",
       "</div>"
      ],
      "text/plain": [
       "    Unnamed: 0           ID                                                                                                                                                                                                                                                                                                               Yoruba                                                                                                                                                                                                                                                               English\n",
       "0   0           ID_AAJEQLCz  A ṣètò Ìgbìmọ̀ Tó Ń Ṣètò Ìrànwọ́ Nígbà Àjálù láti wá bí àwọn ará wa níbẹ̀ ṣe máa rí àwọn nǹkan tí wọ́n máa nílò lọ́jọ́ iwájú.                                                                                                                                                                                        A Disaster Relief Committee was formed to organize the long-term relief efforts.                                                                                                                                                                                    \n",
       "1   1           ID_AASNedba  Ìrọ̀lẹ́ May 22, 2018 ni wọ́n fàṣẹ ọba mú Arákùnrin Solovyev ní ibùdókọ̀ ojú irin nígbà tí òun àti Anna ìyàwó rẹ̀ ń bọ̀ láti ìrìn-àjò tí wọ́n lọ lórílẹ̀-èdè míì.                                                                                                                                                     Brother Solovyev was arrested on the evening of May 22, 2018, at a railway station, as he was arriving home from a trip abroad with his wife, Anna.                                                                                                                 \n",
       "2   2           ID_AAeQrhMq  Iléeṣẹ́ Creative Commons náà                                                                                                                                                                                                                                                                                         Creative Commons the Organization                                                                                                                                                                                                                                   \n",
       "3   3           ID_AAxlMgPP  Pè̩lú Egypt, Morocco àti Tunisia tí wó̩n ti lo̩lé, Senegal nìkan lorílè̩èdè adúláwò̩ kan tó kù, wo̩n á fe̩sè̩wo̩nsè̩ pè̩lú Colombia ni ìfe̩sè̩wo̩nsè̩ tó ké̩yìn ikò̩ H ló̩jó̩bò̩.                                                                                                                                    With Egypt, Morocco and Tunisia out of the World Cup, Senegal, the only African nation left,  will take on Columbia in their last group H game on Thursday.                                                                                                         \n",
       "4   4           ID_ABKuMKSx  Adájọ́ àgbà lórílẹ̀ èdè Náíjíríà (Attorney General of the Federation), Justice Abubakar Malami ti pàsẹ fún ilé-isẹ́ ọ̀tẹlẹ̀múyẹ́ (Department of State Services, DSS) láti jáwọ́ lórí ẹ̀sun Omoyẹle Sowore ní kíákíá.                                                                                                 The Attorney General of the Federation, Justice Abubakar Malami has ordered the Department of State Services (DSS) to hands off the trial of Omoyele Sowore.                                                                                                        \n",
       "5   5           ID_ABOgDsPv  Ìpilẹ̀ ọrọ̀ọ́ lẹ́gbin.                                                                                                                                                                                                                                                                                               The beginning of wealth is chock-full of filth.                                                                                                                                                                                                                     \n",
       "6   6           ID_ABPBNrvn  Ní tòótọ́, nígbà tí mo bá bẹ̀rẹ̀ sí sáré káàkiri tí mò ń sọ pé, “Hey, ọmọkùnrin àti ọmọbìnrin, onímọ̀ nípa ààrun ọkàn niyín ní orílẹ̀-ède US, ǹjẹ́ ẹ lè tẹ̀lé mi padà sílé ká lọ ṣe iṣẹ́ pátàkì kan?                                                                                                                 In fact, when I start running around saying, \"Hey, boys and girls, you're cardiologists in the U.S, can you come home with me and do a mission?                                                                                                                     \n",
       "7   7           ID_ABRvCeJZ  \"Ní September 2, 2019, Ilé Ẹjọ́ Àgbègbè Zheleznodorozhniy ní ìlú Khabarovsk lórílẹ̀-èdè Rọ́ṣíà dájọ́ pé kí Arákùnrin Valeriy Moskalenko lọ ṣe iṣẹ́ àṣesìnlú fún ọdún méjì àti oṣù méjì.                                                                                                                              \"On September 2, 2019, the Zheleznodorozhniy District Court of Khabarovsk, Russia, sentenced Brother Valeriy Moskalenko to two years and two months of community service and another six months of probation.                                                       \n",
       "8   8           ID_ABfNHLLl  Olóògùn ní ńṣe bí a-láigbọ́-mọ̀ràn; bí ogun ó bàá wọ̀lú ọlọgbọ́n là ńfọ̀rọ̀ lọ̀.                                                                                                                                                                                                                                     The medicine man behaves like a person impervious to wise counsel; if war threatens a town the person to consult for counsel is the sage.                                                                                                                           \n",
       "9   9           ID_ABifvERa  Wọ́n mú Anton Lemeshev tó jẹ́ alàgbà, wọ́n sì fi sí àtìmọ́lé fún oṣù méjì kí wọ́n tó gbọ́ ẹjọ́ rẹ̀.                                                                                                                                                                                                                  Anton Lemeshev, an elder, was arrested and then sentenced to pretrial detention for two months.                                                                                                                                                                     \n",
       "10  10          ID_ACXnXIuR  Òtòṣì ò gbọ́ tìṣẹ́ ẹ̀ ó ní ogún kó àparò; ọdẹ́ rorò.                                                                                                                                                                                                                                                                 The destitute person does not look to repairing his fortune; he says the partidge has been captured in a war, for the hunter is merciless.                                                                                                                          \n",
       "11  11          ID_ACaRPExL  Ọ̀gá ọlọ́ọ̀pá gbóṣùbà ràbàndẹ̀ fún olùtónisónà rẹ̀ fún iṣẹ́ ribiribi ó sì tẹ̀síwájú pé ohun náà lófa ti àṣeyọrí àwọn ọlọ́ọ̀pá olùgbanisílẹ̀ tí wọn rí àwọn ọ̀daràn mú pẹ̀lú àwọn oun ìjà tí wọn rígbà.                                                                                                               The Police boss commended his mentor for a good job, and maintained that the mind boggling arrests and arms recoveries were a testament to the efficiency of the rescue team.                                                                                       \n",
       "12  12          ID_ACaztIeD  Ẹ̀yin gan ni ọ̀daràn                                                                                                                                                                                                                                                                                                 In fact you are the criminal                                                                                                                                                                                                                                        \n",
       "13  13          ID_ACsRCYIg  Mo rò wí pé mo wà láàrín-gbùgbun àgbáyé ni.                                                                                                                                                                                                                                                                          I literally thought I was in the center of the universe.                                                                                                                                                                                                            \n",
       "14  14          ID_ADKVAumy  Ṣùgbọ́n mi ò mọ nǹkan tí ẹ̀ ń sọ                                                                                                                                                                                                                                                                                     But I don't know what you guys are talking about                                                                                                                                                                                                                    \n",
       "15  15          ID_ADUlptKz  Omíyalé náà mú kí àwọn odò tó wà lágbègbè náà kún kọjá ààlà, àwọn ibi tó ń gba omi dúró ya lulẹ̀, ó ba ọ̀pọ̀lọpọ̀ ilé jẹ́, ó sì pa ó kéré tán èèyàn mẹ́rin.                                                                                                                                                          As rivers in the area rose to historic levels, water breached dams and levees, damaging hundreds of homes and killing at least four people.                                                                                                                         \n",
       "16  16          ID_ADWbtnfg  Bí iṣẹ́ kò pẹ́ ẹni, a kì í pẹ́ iṣẹ́.                                                                                                                                                                                                                                                                                 If a task does not delay one, one does not drag it out.                                                                                                                                                                                                             \n",
       "17  17          ID_ADaIBCnH  Ẹ̀dà Bíbélì ìpilẹ̀ṣẹ̀ Christian III ti ọdún 1550 Erik Jørgensen tó wà ní ẹ̀ka ọ́fíìsì orílẹ̀-èdè Scandinavia sọ pé: “Ibi tuntun tí wọ́n ń kó onírúurú Bíbélì sí yìí ti jẹ́ ka rí i pé láti ọ̀pọ̀ ọdún sẹ́yìn làwọn ará Scandinavia ti ní ìfẹ́ tó jinlẹ̀ fún Ọrọ̀ Ọlọ́run àti orúkọ rẹ̀ tí kò lẹ́gbẹ́, ìyẹn Jèhófà.”  An original copy of the 1550 Christian III Bible Erik Jørgensen from the Scandinavia branch office comments: “This new Bible museum demonstrates the deep respect that has existed for centuries in Scandinavia for both God’s Word and his majestic name, Jehovah.”\n",
       "18  18          ID_ADiGUwbB  Wíwòó tó ìran.                                                                                                                                                                                                                                                                                                       Watching is enough for a spectacle.                                                                                                                                                                                                                                 \n",
       "19  19          ID_ADwCeiLA  Pẹlu ọkàn ìfẹ́ yìí ni a fi yan ewé P láàyò ní yàrá ìwádìí wa                                                                                                                                                                                                                                                         It is with this interest that in our laboratory we chose a plant P                                                                                                                                                                                                  "
      ]
     },
     "execution_count": 3,
     "metadata": {},
     "output_type": "execute_result"
    }
   ],
   "source": [
    "train.head(20)"
   ]
  },
  {
   "cell_type": "code",
   "execution_count": 4,
   "metadata": {},
   "outputs": [
    {
     "data": {
      "text/plain": [
       "Unnamed: 0    0\n",
       "ID            0\n",
       "Yoruba        0\n",
       "English       0\n",
       "dtype: int64"
      ]
     },
     "execution_count": 4,
     "metadata": {},
     "output_type": "execute_result"
    }
   ],
   "source": [
    "# Check for null values\n",
    "train.isnull().sum()"
   ]
  },
  {
   "cell_type": "code",
   "execution_count": 5,
   "metadata": {},
   "outputs": [
    {
     "data": {
      "text/plain": [
       "(10054, 4)"
      ]
     },
     "execution_count": 5,
     "metadata": {},
     "output_type": "execute_result"
    }
   ],
   "source": [
    "# Check shape of train dataset\n",
    "train.shape"
   ]
  },
  {
   "cell_type": "code",
   "execution_count": 6,
   "metadata": {},
   "outputs": [
    {
     "name": "stdout",
     "output_type": "stream",
     "text": [
      "<class 'pandas.core.frame.DataFrame'>\n",
      "RangeIndex: 10054 entries, 0 to 10053\n",
      "Data columns (total 4 columns):\n",
      " #   Column      Non-Null Count  Dtype \n",
      "---  ------      --------------  ----- \n",
      " 0   Unnamed: 0  10054 non-null  int64 \n",
      " 1   ID          10054 non-null  object\n",
      " 2   Yoruba      10054 non-null  object\n",
      " 3   English     10054 non-null  object\n",
      "dtypes: int64(1), object(3)\n",
      "memory usage: 314.3+ KB\n"
     ]
    }
   ],
   "source": [
    "train.info()"
   ]
  },
  {
   "cell_type": "code",
   "execution_count": 7,
   "metadata": {},
   "outputs": [],
   "source": [
    "#lower all cases\n",
    "train[\"Yoruba\"] = train[\"Yoruba\"].apply(lambda x:x.lower())\n",
    "train[\"English\"] = train[\"English\"].apply(lambda x:x.lower())"
   ]
  },
  {
   "cell_type": "code",
   "execution_count": 8,
   "metadata": {},
   "outputs": [],
   "source": [
    "#Removing quotes\n",
    "train[\"Yoruba\"] = train[\"Yoruba\"].str.replace('\"', '')\n",
    "train[\"English\"] = train[\"English\"].str.replace('\"', '')"
   ]
  },
  {
   "cell_type": "code",
   "execution_count": 9,
   "metadata": {},
   "outputs": [],
   "source": [
    "exclude = set(string.punctuation) # Set of all special characters\n",
    "# Remove all the special characters\n",
    "train[\"Yoruba\"]=train[\"Yoruba\"].apply(lambda x: ''.join(ch for ch in x if ch not in exclude))\n",
    "train[\"English\"]=train[\"English\"].apply(lambda x: ''.join(ch for ch in x if ch not in exclude))"
   ]
  },
  {
   "cell_type": "code",
   "execution_count": 10,
   "metadata": {},
   "outputs": [],
   "source": [
    "#Removing numbers from text\n",
    "remove_digits = str.maketrans(\"\", \"\", digits)\n",
    "train[\"Yoruba\"] = train[\"Yoruba\"].apply(lambda x: x.translate(remove_digits))\n",
    "train[\"English\"] = train[\"English\"].apply(lambda x: x.translate(remove_digits))\n",
    "\n",
    "# No symbols for 1,2,3 in Yoruba language"
   ]
  },
  {
   "cell_type": "code",
   "execution_count": 11,
   "metadata": {},
   "outputs": [],
   "source": [
    "# Removing extra spaces\n",
    "train[\"Yoruba\"] = train[\"Yoruba\"].apply(lambda x: x.strip())\n",
    "train[\"English\"] = train[\"English\"].apply(lambda x: x.strip())\n",
    "train[\"Yoruba\"] = train[\"Yoruba\"].apply(lambda x: re.sub(\" +\", \" \", x))\n",
    "train[\"English\"] = train[\"English\"].apply(lambda x: re.sub(\" +\", \" \", x))"
   ]
  },
  {
   "cell_type": "code",
   "execution_count": 12,
   "metadata": {},
   "outputs": [],
   "source": [
    "# Add start and end tokens to target sentences\n",
    "train[\"Yoruba\"] = train[\"Yoruba\"].apply(lambda x: \"START_ \"+ x +\" _END\")"
   ]
  },
  {
   "cell_type": "code",
   "execution_count": 13,
   "metadata": {},
   "outputs": [
    {
     "data": {
      "text/html": [
       "<div>\n",
       "<style scoped>\n",
       "    .dataframe tbody tr th:only-of-type {\n",
       "        vertical-align: middle;\n",
       "    }\n",
       "\n",
       "    .dataframe tbody tr th {\n",
       "        vertical-align: top;\n",
       "    }\n",
       "\n",
       "    .dataframe thead th {\n",
       "        text-align: right;\n",
       "    }\n",
       "</style>\n",
       "<table border=\"1\" class=\"dataframe\">\n",
       "  <thead>\n",
       "    <tr style=\"text-align: right;\">\n",
       "      <th></th>\n",
       "      <th>Unnamed: 0</th>\n",
       "      <th>ID</th>\n",
       "      <th>Yoruba</th>\n",
       "      <th>English</th>\n",
       "    </tr>\n",
       "  </thead>\n",
       "  <tbody>\n",
       "    <tr>\n",
       "      <th>0</th>\n",
       "      <td>0</td>\n",
       "      <td>ID_AAJEQLCz</td>\n",
       "      <td>START_ a ṣètò ìgbìmọ̀ tó ń ṣètò ìrànwọ́ nígbà àjálù láti wá bí àwọn ará wa níbẹ̀ ṣe máa rí àwọn nǹkan tí wọ́n máa nílò lọ́jọ́ iwájú _END</td>\n",
       "      <td>a disaster relief committee was formed to organize the longterm relief efforts</td>\n",
       "    </tr>\n",
       "    <tr>\n",
       "      <th>1</th>\n",
       "      <td>1</td>\n",
       "      <td>ID_AASNedba</td>\n",
       "      <td>START_ ìrọ̀lẹ́ may ni wọ́n fàṣẹ ọba mú arákùnrin solovyev ní ibùdókọ̀ ojú irin nígbà tí òun àti anna ìyàwó rẹ̀ ń bọ̀ láti ìrìnàjò tí wọ́n lọ lórílẹ̀èdè míì _END</td>\n",
       "      <td>brother solovyev was arrested on the evening of may at a railway station as he was arriving home from a trip abroad with his wife anna</td>\n",
       "    </tr>\n",
       "    <tr>\n",
       "      <th>2</th>\n",
       "      <td>2</td>\n",
       "      <td>ID_AAeQrhMq</td>\n",
       "      <td>START_ iléeṣẹ́ creative commons náà _END</td>\n",
       "      <td>creative commons the organization</td>\n",
       "    </tr>\n",
       "    <tr>\n",
       "      <th>3</th>\n",
       "      <td>3</td>\n",
       "      <td>ID_AAxlMgPP</td>\n",
       "      <td>START_ pè̩lú egypt morocco àti tunisia tí wó̩n ti lo̩lé senegal nìkan lorílè̩èdè adúláwò̩ kan tó kù wo̩n á fe̩sè̩wo̩nsè̩ pè̩lú colombia ni ìfe̩sè̩wo̩nsè̩ tó ké̩yìn ikò̩ h ló̩jó̩bò̩ _END</td>\n",
       "      <td>with egypt morocco and tunisia out of the world cup senegal the only african nation left will take on columbia in their last group h game on thursday</td>\n",
       "    </tr>\n",
       "    <tr>\n",
       "      <th>4</th>\n",
       "      <td>4</td>\n",
       "      <td>ID_ABKuMKSx</td>\n",
       "      <td>START_ adájọ́ àgbà lórílẹ̀ èdè náíjíríà attorney general of the federation justice abubakar malami ti pàsẹ fún iléisẹ́ ọ̀tẹlẹ̀múyẹ́ department of state services dss láti jáwọ́ lórí ẹ̀sun omoyẹle sowore ní kíákíá _END</td>\n",
       "      <td>the attorney general of the federation justice abubakar malami has ordered the department of state services dss to hands off the trial of omoyele sowore</td>\n",
       "    </tr>\n",
       "  </tbody>\n",
       "</table>\n",
       "</div>"
      ],
      "text/plain": [
       "   Unnamed: 0           ID                                                                                                                                                                                                                    Yoruba                                                                                                                                                   English\n",
       "0  0           ID_AAJEQLCz  START_ a ṣètò ìgbìmọ̀ tó ń ṣètò ìrànwọ́ nígbà àjálù láti wá bí àwọn ará wa níbẹ̀ ṣe máa rí àwọn nǹkan tí wọ́n máa nílò lọ́jọ́ iwájú _END                                                                                  a disaster relief committee was formed to organize the longterm relief efforts                                                                          \n",
       "1  1           ID_AASNedba  START_ ìrọ̀lẹ́ may ni wọ́n fàṣẹ ọba mú arákùnrin solovyev ní ibùdókọ̀ ojú irin nígbà tí òun àti anna ìyàwó rẹ̀ ń bọ̀ láti ìrìnàjò tí wọ́n lọ lórílẹ̀èdè míì _END                                                          brother solovyev was arrested on the evening of may at a railway station as he was arriving home from a trip abroad with his wife anna                  \n",
       "2  2           ID_AAeQrhMq  START_ iléeṣẹ́ creative commons náà _END                                                                                                                                                                                  creative commons the organization                                                                                                                       \n",
       "3  3           ID_AAxlMgPP  START_ pè̩lú egypt morocco àti tunisia tí wó̩n ti lo̩lé senegal nìkan lorílè̩èdè adúláwò̩ kan tó kù wo̩n á fe̩sè̩wo̩nsè̩ pè̩lú colombia ni ìfe̩sè̩wo̩nsè̩ tó ké̩yìn ikò̩ h ló̩jó̩bò̩ _END                                 with egypt morocco and tunisia out of the world cup senegal the only african nation left will take on columbia in their last group h game on thursday   \n",
       "4  4           ID_ABKuMKSx  START_ adájọ́ àgbà lórílẹ̀ èdè náíjíríà attorney general of the federation justice abubakar malami ti pàsẹ fún iléisẹ́ ọ̀tẹlẹ̀múyẹ́ department of state services dss láti jáwọ́ lórí ẹ̀sun omoyẹle sowore ní kíákíá _END  the attorney general of the federation justice abubakar malami has ordered the department of state services dss to hands off the trial of omoyele sowore"
      ]
     },
     "execution_count": 13,
     "metadata": {},
     "output_type": "execute_result"
    }
   ],
   "source": [
    "train.head()"
   ]
  },
  {
   "cell_type": "code",
   "execution_count": 14,
   "metadata": {},
   "outputs": [],
   "source": [
    "# Get English and Yoruba Vocabulary\n",
    "all_english_words = set()\n",
    "for english in train[\"English\"]:\n",
    "    for word in english.split():\n",
    "        if word not in all_english_words:\n",
    "            all_english_words.add(word)\n",
    "            \n",
    "all_yoruba_words = set()\n",
    "for yoruba in train[\"Yoruba\"]:\n",
    "    for word in yoruba.split():\n",
    "        if word not in all_yoruba_words:\n",
    "            all_yoruba_words.add(word)"
   ]
  },
  {
   "cell_type": "code",
   "execution_count": 15,
   "metadata": {},
   "outputs": [
    {
     "name": "stdout",
     "output_type": "stream",
     "text": [
      "Length of all english words: 16317\n",
      "Length of all yoruba words: 15792\n"
     ]
    }
   ],
   "source": [
    "print(\"Length of all english words: \" + str(len(all_english_words)))\n",
    "print(\"Length of all yoruba words: \" + str(len(all_yoruba_words)))    "
   ]
  },
  {
   "cell_type": "code",
   "execution_count": 16,
   "metadata": {},
   "outputs": [],
   "source": [
    "train[\"length_yor_sentence\"] = train[\"Yoruba\"].apply(lambda x:len(x.split(\" \")))\n",
    "train[\"length_eng_sentence\"] = train[\"English\"].apply(lambda x:len(x.split(\" \")))"
   ]
  },
  {
   "cell_type": "code",
   "execution_count": 17,
   "metadata": {},
   "outputs": [
    {
     "data": {
      "text/html": [
       "<div>\n",
       "<style scoped>\n",
       "    .dataframe tbody tr th:only-of-type {\n",
       "        vertical-align: middle;\n",
       "    }\n",
       "\n",
       "    .dataframe tbody tr th {\n",
       "        vertical-align: top;\n",
       "    }\n",
       "\n",
       "    .dataframe thead th {\n",
       "        text-align: right;\n",
       "    }\n",
       "</style>\n",
       "<table border=\"1\" class=\"dataframe\">\n",
       "  <thead>\n",
       "    <tr style=\"text-align: right;\">\n",
       "      <th></th>\n",
       "      <th>Unnamed: 0</th>\n",
       "      <th>ID</th>\n",
       "      <th>Yoruba</th>\n",
       "      <th>English</th>\n",
       "      <th>length_yor_sentence</th>\n",
       "      <th>length_eng_sentence</th>\n",
       "    </tr>\n",
       "  </thead>\n",
       "  <tbody>\n",
       "    <tr>\n",
       "      <th>0</th>\n",
       "      <td>0</td>\n",
       "      <td>ID_AAJEQLCz</td>\n",
       "      <td>START_ a ṣètò ìgbìmọ̀ tó ń ṣètò ìrànwọ́ nígbà àjálù láti wá bí àwọn ará wa níbẹ̀ ṣe máa rí àwọn nǹkan tí wọ́n máa nílò lọ́jọ́ iwájú _END</td>\n",
       "      <td>a disaster relief committee was formed to organize the longterm relief efforts</td>\n",
       "      <td>29</td>\n",
       "      <td>12</td>\n",
       "    </tr>\n",
       "    <tr>\n",
       "      <th>1</th>\n",
       "      <td>1</td>\n",
       "      <td>ID_AASNedba</td>\n",
       "      <td>START_ ìrọ̀lẹ́ may ni wọ́n fàṣẹ ọba mú arákùnrin solovyev ní ibùdókọ̀ ojú irin nígbà tí òun àti anna ìyàwó rẹ̀ ń bọ̀ láti ìrìnàjò tí wọ́n lọ lórílẹ̀èdè míì _END</td>\n",
       "      <td>brother solovyev was arrested on the evening of may at a railway station as he was arriving home from a trip abroad with his wife anna</td>\n",
       "      <td>31</td>\n",
       "      <td>26</td>\n",
       "    </tr>\n",
       "    <tr>\n",
       "      <th>2</th>\n",
       "      <td>2</td>\n",
       "      <td>ID_AAeQrhMq</td>\n",
       "      <td>START_ iléeṣẹ́ creative commons náà _END</td>\n",
       "      <td>creative commons the organization</td>\n",
       "      <td>6</td>\n",
       "      <td>4</td>\n",
       "    </tr>\n",
       "    <tr>\n",
       "      <th>3</th>\n",
       "      <td>3</td>\n",
       "      <td>ID_AAxlMgPP</td>\n",
       "      <td>START_ pè̩lú egypt morocco àti tunisia tí wó̩n ti lo̩lé senegal nìkan lorílè̩èdè adúláwò̩ kan tó kù wo̩n á fe̩sè̩wo̩nsè̩ pè̩lú colombia ni ìfe̩sè̩wo̩nsè̩ tó ké̩yìn ikò̩ h ló̩jó̩bò̩ _END</td>\n",
       "      <td>with egypt morocco and tunisia out of the world cup senegal the only african nation left will take on columbia in their last group h game on thursday</td>\n",
       "      <td>30</td>\n",
       "      <td>28</td>\n",
       "    </tr>\n",
       "    <tr>\n",
       "      <th>4</th>\n",
       "      <td>4</td>\n",
       "      <td>ID_ABKuMKSx</td>\n",
       "      <td>START_ adájọ́ àgbà lórílẹ̀ èdè náíjíríà attorney general of the federation justice abubakar malami ti pàsẹ fún iléisẹ́ ọ̀tẹlẹ̀múyẹ́ department of state services dss láti jáwọ́ lórí ẹ̀sun omoyẹle sowore ní kíákíá _END</td>\n",
       "      <td>the attorney general of the federation justice abubakar malami has ordered the department of state services dss to hands off the trial of omoyele sowore</td>\n",
       "      <td>33</td>\n",
       "      <td>25</td>\n",
       "    </tr>\n",
       "  </tbody>\n",
       "</table>\n",
       "</div>"
      ],
      "text/plain": [
       "   Unnamed: 0           ID                                                                                                                                                                                                                    Yoruba                                                                                                                                                   English  length_yor_sentence  length_eng_sentence\n",
       "0  0           ID_AAJEQLCz  START_ a ṣètò ìgbìmọ̀ tó ń ṣètò ìrànwọ́ nígbà àjálù láti wá bí àwọn ará wa níbẹ̀ ṣe máa rí àwọn nǹkan tí wọ́n máa nílò lọ́jọ́ iwájú _END                                                                                  a disaster relief committee was formed to organize the longterm relief efforts                                                                            29                   12                 \n",
       "1  1           ID_AASNedba  START_ ìrọ̀lẹ́ may ni wọ́n fàṣẹ ọba mú arákùnrin solovyev ní ibùdókọ̀ ojú irin nígbà tí òun àti anna ìyàwó rẹ̀ ń bọ̀ láti ìrìnàjò tí wọ́n lọ lórílẹ̀èdè míì _END                                                          brother solovyev was arrested on the evening of may at a railway station as he was arriving home from a trip abroad with his wife anna                    31                   26                 \n",
       "2  2           ID_AAeQrhMq  START_ iléeṣẹ́ creative commons náà _END                                                                                                                                                                                  creative commons the organization                                                                                                                         6                    4                  \n",
       "3  3           ID_AAxlMgPP  START_ pè̩lú egypt morocco àti tunisia tí wó̩n ti lo̩lé senegal nìkan lorílè̩èdè adúláwò̩ kan tó kù wo̩n á fe̩sè̩wo̩nsè̩ pè̩lú colombia ni ìfe̩sè̩wo̩nsè̩ tó ké̩yìn ikò̩ h ló̩jó̩bò̩ _END                                 with egypt morocco and tunisia out of the world cup senegal the only african nation left will take on columbia in their last group h game on thursday     30                   28                 \n",
       "4  4           ID_ABKuMKSx  START_ adájọ́ àgbà lórílẹ̀ èdè náíjíríà attorney general of the federation justice abubakar malami ti pàsẹ fún iléisẹ́ ọ̀tẹlẹ̀múyẹ́ department of state services dss láti jáwọ́ lórí ẹ̀sun omoyẹle sowore ní kíákíá _END  the attorney general of the federation justice abubakar malami has ordered the department of state services dss to hands off the trial of omoyele sowore  33                   25                 "
      ]
     },
     "execution_count": 17,
     "metadata": {},
     "output_type": "execute_result"
    }
   ],
   "source": [
    "train.head()"
   ]
  },
  {
   "cell_type": "code",
   "execution_count": 18,
   "metadata": {},
   "outputs": [
    {
     "data": {
      "text/plain": [
       "(10054, 6)"
      ]
     },
     "execution_count": 18,
     "metadata": {},
     "output_type": "execute_result"
    }
   ],
   "source": [
    "train.shape"
   ]
  },
  {
   "cell_type": "code",
   "execution_count": 19,
   "metadata": {},
   "outputs": [
    {
     "data": {
      "text/plain": [
       "(0, 6)"
      ]
     },
     "execution_count": 19,
     "metadata": {},
     "output_type": "execute_result"
    }
   ],
   "source": [
    "train[train['length_eng_sentence']>220].shape"
   ]
  },
  {
   "cell_type": "code",
   "execution_count": 20,
   "metadata": {},
   "outputs": [],
   "source": [
    "train = train[train['length_eng_sentence']<=78]\n",
    "train = train[train['length_yor_sentence']<=78]"
   ]
  },
  {
   "cell_type": "code",
   "execution_count": 21,
   "metadata": {},
   "outputs": [
    {
     "data": {
      "text/plain": [
       "(10009, 6)"
      ]
     },
     "execution_count": 21,
     "metadata": {},
     "output_type": "execute_result"
    }
   ],
   "source": [
    "train.shape"
   ]
  },
  {
   "cell_type": "code",
   "execution_count": 22,
   "metadata": {},
   "outputs": [
    {
     "name": "stdout",
     "output_type": "stream",
     "text": [
      "Maximum length of Yoruba Sentence  78\n",
      "maximum length of English Sentence  78\n"
     ]
    }
   ],
   "source": [
    "print(\"Maximum length of Yoruba Sentence \",max(train['length_yor_sentence']))\n",
    "print(\"maximum length of English Sentence \",max(train['length_eng_sentence']))"
   ]
  },
  {
   "cell_type": "code",
   "execution_count": 23,
   "metadata": {},
   "outputs": [],
   "source": [
    "max_length_src=max(train['length_yor_sentence'])\n",
    "max_length_tar=max(train['length_eng_sentence'])"
   ]
  },
  {
   "cell_type": "code",
   "execution_count": 24,
   "metadata": {},
   "outputs": [
    {
     "data": {
      "text/plain": [
       "(16317, 15792)"
      ]
     },
     "execution_count": 24,
     "metadata": {},
     "output_type": "execute_result"
    }
   ],
   "source": [
    "input_words = sorted(list(all_yoruba_words))\n",
    "target_words = sorted(list(all_english_words))\n",
    "num_encoder_tokens = len(all_english_words)\n",
    "num_decoder_tokens = len(all_yoruba_words)\n",
    "num_encoder_tokens, num_decoder_tokens"
   ]
  },
  {
   "cell_type": "code",
   "execution_count": 25,
   "metadata": {},
   "outputs": [],
   "source": [
    "num_decoder_tokens += 1 #for zero padding"
   ]
  },
  {
   "cell_type": "code",
   "execution_count": 26,
   "metadata": {},
   "outputs": [],
   "source": [
    "input_token_index = dict([(word, i+1) for i, word in enumerate(input_words)])\n",
    "target_token_index = dict([(word, i+1) for i, word in enumerate(target_words)])"
   ]
  },
  {
   "cell_type": "code",
   "execution_count": 27,
   "metadata": {},
   "outputs": [],
   "source": [
    "# Index of the characters\n",
    "reverse_input_char_index = dict((i, word) for word, i in input_token_index.items())\n",
    "reverse_target_char_index = dict((i, word) for word, i in target_token_index.items())"
   ]
  },
  {
   "cell_type": "code",
   "execution_count": 28,
   "metadata": {},
   "outputs": [
    {
     "data": {
      "text/html": [
       "<div>\n",
       "<style scoped>\n",
       "    .dataframe tbody tr th:only-of-type {\n",
       "        vertical-align: middle;\n",
       "    }\n",
       "\n",
       "    .dataframe tbody tr th {\n",
       "        vertical-align: top;\n",
       "    }\n",
       "\n",
       "    .dataframe thead th {\n",
       "        text-align: right;\n",
       "    }\n",
       "</style>\n",
       "<table border=\"1\" class=\"dataframe\">\n",
       "  <thead>\n",
       "    <tr style=\"text-align: right;\">\n",
       "      <th></th>\n",
       "      <th>Unnamed: 0</th>\n",
       "      <th>ID</th>\n",
       "      <th>Yoruba</th>\n",
       "      <th>English</th>\n",
       "      <th>length_yor_sentence</th>\n",
       "      <th>length_eng_sentence</th>\n",
       "    </tr>\n",
       "  </thead>\n",
       "  <tbody>\n",
       "    <tr>\n",
       "      <th>2166</th>\n",
       "      <td>2166</td>\n",
       "      <td>ID_KxNnJNWI</td>\n",
       "      <td>START_ ọ̀rẹ́ àti alábàáṣe _END</td>\n",
       "      <td>my contacts and associations</td>\n",
       "      <td>5</td>\n",
       "      <td>4</td>\n",
       "    </tr>\n",
       "    <tr>\n",
       "      <th>7414</th>\n",
       "      <td>7414</td>\n",
       "      <td>ID_mNvAeonA</td>\n",
       "      <td>START_ ṣé mi ò lẹ́tọ̀ọ́ láti jàǹfààní ohun tí abala kejìdínlọ́gbọ̀n nínú òfin orílẹ̀èdè rọ́ṣíà sọ ni _END</td>\n",
       "      <td>have i lost the right to avail myself of article of the russian constitution</td>\n",
       "      <td>18</td>\n",
       "      <td>14</td>\n",
       "    </tr>\n",
       "    <tr>\n",
       "      <th>6347</th>\n",
       "      <td>6347</td>\n",
       "      <td>ID_gofzlFzU</td>\n",
       "      <td>START_ a kì í bú ọba onígẹ̀gẹ̀ lójú àwọn èèyànán ẹ̀ _END</td>\n",
       "      <td>one does not insult a king with a goitre in the presence of his people</td>\n",
       "      <td>12</td>\n",
       "      <td>15</td>\n",
       "    </tr>\n",
       "    <tr>\n",
       "      <th>1228</th>\n",
       "      <td>1228</td>\n",
       "      <td>ID_FzecXUlL</td>\n",
       "      <td>START_ àìtó ìpolongo fún àwọn olùgbé ìlú _END</td>\n",
       "      <td>low levels of public awareness</td>\n",
       "      <td>8</td>\n",
       "      <td>5</td>\n",
       "    </tr>\n",
       "    <tr>\n",
       "      <th>6797</th>\n",
       "      <td>6797</td>\n",
       "      <td>ID_jGgzaRFh</td>\n",
       "      <td>START_ léyìn èyí ìjọba lè mú àdínkù bá owó iná àti owó omi ní àwọn ilé ìwé nítorí pé bí ó ṣe gbérí yìí ń pa iṣẹ́ wọn lára _END</td>\n",
       "      <td>next the government could lower water and electricity tariffs for schools as these huge costs are hurting their operations</td>\n",
       "      <td>30</td>\n",
       "      <td>19</td>\n",
       "    </tr>\n",
       "    <tr>\n",
       "      <th>2696</th>\n",
       "      <td>2696</td>\n",
       "      <td>ID_NlaPdENU</td>\n",
       "      <td>START_ bákan náà àwọn ará lọ́kùnrin lóbìnrin tó gbọ́ èdè àwọn adití lédè korea dáadáa lo àwọn àtẹ tó ní móhùnmáwòrán lára láti máa fi àwọn fídíò èdè adití han ọ̀pọ̀ àwọn adití tó wá síbi ìdíje fáwọn aláàbọ̀ ara _END</td>\n",
       "      <td>additionally brothers and sisters fluent in korean sign language used carts featuring signlanguage videos to welcome the many deaf persons who came to the paralympics</td>\n",
       "      <td>41</td>\n",
       "      <td>25</td>\n",
       "    </tr>\n",
       "    <tr>\n",
       "      <th>5604</th>\n",
       "      <td>5604</td>\n",
       "      <td>ID_csybxERe</td>\n",
       "      <td>START_ ìgbà tí a bá rẹni lòwúrọ̀ ẹni _END</td>\n",
       "      <td>whenever one first sees a person that is that persons morning</td>\n",
       "      <td>9</td>\n",
       "      <td>11</td>\n",
       "    </tr>\n",
       "    <tr>\n",
       "      <th>4516</th>\n",
       "      <td>4516</td>\n",
       "      <td>ID_XLrjzzVe</td>\n",
       "      <td>START_ kí ló dé tí o ò wọ aṣọ iṣẹ́ _END</td>\n",
       "      <td>why are you not in your uniform</td>\n",
       "      <td>11</td>\n",
       "      <td>7</td>\n",
       "    </tr>\n",
       "    <tr>\n",
       "      <th>547</th>\n",
       "      <td>547</td>\n",
       "      <td>ID_CkCKcLXX</td>\n",
       "      <td>START_ ǹjẹ́ aládùúgbò ní ìṣẹ̀lẹ̀àtẹ̀yìnwáa ìfọ́lé _END</td>\n",
       "      <td>does my neighborhood have a history of burglaries</td>\n",
       "      <td>7</td>\n",
       "      <td>8</td>\n",
       "    </tr>\n",
       "    <tr>\n",
       "      <th>1576</th>\n",
       "      <td>1576</td>\n",
       "      <td>ID_HtNfqXGN</td>\n",
       "      <td>START_ ṣe ni ẹ̀rí ọkàn àwọn ẹlòmíì ń dá wọn lẹ́bi torí ohun burúkú tí wọ́n ṣe _END</td>\n",
       "      <td>others were tortured by their own consciences because of the terrible deeds they had committed</td>\n",
       "      <td>18</td>\n",
       "      <td>15</td>\n",
       "    </tr>\n",
       "    <tr>\n",
       "      <th>2621</th>\n",
       "      <td>2621</td>\n",
       "      <td>ID_NRIhFePT</td>\n",
       "      <td>START_ ní àsìkò náà a ṣe ìkówọlé àwọn ohunèlò ayélukárabíajere tí wọ́n pè ní iopener tí wọ́n ṣe sànmání ìtakùn ẹ̀rọ ayélukárabíajere àmì ti ìṣe òwò ní iléiṣẹ́ kan tí ó fìdí rẹmi ní orílẹ̀ède us _END</td>\n",
       "      <td>at the time we imported internet appliances called iopeners that were manufactured during the dotcom era by a failed us company</td>\n",
       "      <td>37</td>\n",
       "      <td>21</td>\n",
       "    </tr>\n",
       "    <tr>\n",
       "      <th>8013</th>\n",
       "      <td>8013</td>\n",
       "      <td>ID_pLqMjlQg</td>\n",
       "      <td>START_ fẹ́mi o ò lè máa ra nǹkan oríṣìíríṣi fún mi báyìí _END</td>\n",
       "      <td>femi you cant go about buying me things as random like this</td>\n",
       "      <td>13</td>\n",
       "      <td>12</td>\n",
       "    </tr>\n",
       "    <tr>\n",
       "      <th>1234</th>\n",
       "      <td>1234</td>\n",
       "      <td>ID_GBQvcOyY</td>\n",
       "      <td>START_ ṣe bóo ti mọ ẹlẹ́wàa ṣàpọ́n _END</td>\n",
       "      <td>moderate your preening and strutting beautiful woman of ṣàpọ́n</td>\n",
       "      <td>8</td>\n",
       "      <td>9</td>\n",
       "    </tr>\n",
       "    <tr>\n",
       "      <th>8378</th>\n",
       "      <td>8378</td>\n",
       "      <td>ID_rPpILZle</td>\n",
       "      <td>START_ akọ́nimọ̀ọ́gbá ogc nice té̩lè̩ lạ̀jọ nff yàn gẹ́gẹ́ bí akọnimọ̀ọ́gbá super eagles lọ́dún ó sì rankọ̀ ọ̀hún lọ́wọ́ láti lo̩ ìdíje bọ́ọ̀lù àgbááyé tó ń lọ lọ́wọ́ lórílẹ̀èdè russia _END</td>\n",
       "      <td>the former ogc nice manager was appointed head coach of the super eagles in and he steered the team to qualify for the fifa world cup in russia</td>\n",
       "      <td>31</td>\n",
       "      <td>28</td>\n",
       "    </tr>\n",
       "    <tr>\n",
       "      <th>6106</th>\n",
       "      <td>6106</td>\n",
       "      <td>ID_fVxeaalU</td>\n",
       "      <td>START_ ogún ń bókòó òwe aṣiwèrè _END</td>\n",
       "      <td>twenty or a score an imbeciles puzzle</td>\n",
       "      <td>7</td>\n",
       "      <td>7</td>\n",
       "    </tr>\n",
       "    <tr>\n",
       "      <th>4900</th>\n",
       "      <td>4900</td>\n",
       "      <td>ID_ZOTOojMS</td>\n",
       "      <td>START_ kí a re odò ká sùn kí ni ará ilé yó mu _END</td>\n",
       "      <td>if we go to the river and sleep there what will the people left at home drink</td>\n",
       "      <td>14</td>\n",
       "      <td>17</td>\n",
       "    </tr>\n",
       "    <tr>\n",
       "      <th>4385</th>\n",
       "      <td>4385</td>\n",
       "      <td>ID_WbiPBQOx</td>\n",
       "      <td>START_ lákòókò tí nǹkan le yìí à ń gbàdúrà fún àwọn ará wa tó wà ní japan a sì mọ̀ pé jèhófà máa bójú tó àwọn ìránṣẹ́ ẹ̀ tí “àárẹ̀ bá ẹ̀mí wọn” nítorí àjálù yìí—sáàmù _END</td>\n",
       "      <td>during this difficult time we pray for our brothers in japan confident that jehovah cares for his worshippers who are “crushed in spirit” by this series of natural disasters—psalm</td>\n",
       "      <td>37</td>\n",
       "      <td>29</td>\n",
       "    </tr>\n",
       "    <tr>\n",
       "      <th>3299</th>\n",
       "      <td>3299</td>\n",
       "      <td>ID_QohlMkwv</td>\n",
       "      <td>START_ gẹ́gẹ́ bí onímọ̀ nípa ètò ìṣúná owó david bollier ṣàpèjúwe rẹ̀ “commons jẹyọ nígbàkúùgbà tí ẹgbẹ́ kan nínú ìlú bá ní ìfẹ́ sí ìṣàkóso ohun àmúlò kan bí iṣẹ́ ní ọ̀nà tí ó bá ti àjọṣepọ̀ mu pẹ̀lú ìbọ̀wọ̀ fún ìṣòtítọ́ nípa rírí àyè sí iṣẹ́ náà ìṣàmúlò iṣẹ́ náà àti ìmúró iṣẹ́ náà” _END</td>\n",
       "      <td>as economist david bollier describes it “a commons arises whenever a given community decides it wishes to manage a resource in a collective manner with special regard for equitable access use and sustainability”</td>\n",
       "      <td>56</td>\n",
       "      <td>33</td>\n",
       "    </tr>\n",
       "    <tr>\n",
       "      <th>1709</th>\n",
       "      <td>1709</td>\n",
       "      <td>ID_IZUPXUDz</td>\n",
       "      <td>START_ padà ní bíi ìṣẹjú àáyá _END</td>\n",
       "      <td>go back seconds</td>\n",
       "      <td>7</td>\n",
       "      <td>3</td>\n",
       "    </tr>\n",
       "    <tr>\n",
       "      <th>1093</th>\n",
       "      <td>1093</td>\n",
       "      <td>ID_FVWjfiSL</td>\n",
       "      <td>START_ “kò dùn mí kò dùn mí” àgbàlagbà ń bú ọpa lẹ́ẹ̀mẹfà nítorí iyán àná _END</td>\n",
       "      <td>“i am not upset i am not upset” yet a grown man swears angrily six times because of last nights pounded yam</td>\n",
       "      <td>16</td>\n",
       "      <td>22</td>\n",
       "    </tr>\n",
       "  </tbody>\n",
       "</table>\n",
       "</div>"
      ],
      "text/plain": [
       "      Unnamed: 0           ID                                                                                                                                                                                                                                                                                            Yoruba                                                                                                                                                                                                              English  length_yor_sentence  length_eng_sentence\n",
       "2166  2166        ID_KxNnJNWI  START_ ọ̀rẹ́ àti alábàáṣe _END                                                                                                                                                                                                                                                                    my contacts and associations                                                                                                                                                                                         5                    4                  \n",
       "7414  7414        ID_mNvAeonA  START_ ṣé mi ò lẹ́tọ̀ọ́ láti jàǹfààní ohun tí abala kejìdínlọ́gbọ̀n nínú òfin orílẹ̀èdè rọ́ṣíà sọ ni _END                                                                                                                                                                                         have i lost the right to avail myself of article of the russian constitution                                                                                                                                         18                   14                 \n",
       "6347  6347        ID_gofzlFzU  START_ a kì í bú ọba onígẹ̀gẹ̀ lójú àwọn èèyànán ẹ̀ _END                                                                                                                                                                                                                                          one does not insult a king with a goitre in the presence of his people                                                                                                                                               12                   15                 \n",
       "1228  1228        ID_FzecXUlL  START_ àìtó ìpolongo fún àwọn olùgbé ìlú _END                                                                                                                                                                                                                                                     low levels of public awareness                                                                                                                                                                                       8                    5                  \n",
       "6797  6797        ID_jGgzaRFh  START_ léyìn èyí ìjọba lè mú àdínkù bá owó iná àti owó omi ní àwọn ilé ìwé nítorí pé bí ó ṣe gbérí yìí ń pa iṣẹ́ wọn lára _END                                                                                                                                                                    next the government could lower water and electricity tariffs for schools as these huge costs are hurting their operations                                                                                           30                   19                 \n",
       "2696  2696        ID_NlaPdENU  START_ bákan náà àwọn ará lọ́kùnrin lóbìnrin tó gbọ́ èdè àwọn adití lédè korea dáadáa lo àwọn àtẹ tó ní móhùnmáwòrán lára láti máa fi àwọn fídíò èdè adití han ọ̀pọ̀ àwọn adití tó wá síbi ìdíje fáwọn aláàbọ̀ ara _END                                                                           additionally brothers and sisters fluent in korean sign language used carts featuring signlanguage videos to welcome the many deaf persons who came to the paralympics                                               41                   25                 \n",
       "5604  5604        ID_csybxERe  START_ ìgbà tí a bá rẹni lòwúrọ̀ ẹni _END                                                                                                                                                                                                                                                         whenever one first sees a person that is that persons morning                                                                                                                                                        9                    11                 \n",
       "4516  4516        ID_XLrjzzVe  START_ kí ló dé tí o ò wọ aṣọ iṣẹ́ _END                                                                                                                                                                                                                                                           why are you not in your uniform                                                                                                                                                                                      11                   7                  \n",
       "547   547         ID_CkCKcLXX  START_ ǹjẹ́ aládùúgbò ní ìṣẹ̀lẹ̀àtẹ̀yìnwáa ìfọ́lé _END                                                                                                                                                                                                                                            does my neighborhood have a history of burglaries                                                                                                                                                                    7                    8                  \n",
       "1576  1576        ID_HtNfqXGN  START_ ṣe ni ẹ̀rí ọkàn àwọn ẹlòmíì ń dá wọn lẹ́bi torí ohun burúkú tí wọ́n ṣe _END                                                                                                                                                                                                                others were tortured by their own consciences because of the terrible deeds they had committed                                                                                                                       18                   15                 \n",
       "2621  2621        ID_NRIhFePT  START_ ní àsìkò náà a ṣe ìkówọlé àwọn ohunèlò ayélukárabíajere tí wọ́n pè ní iopener tí wọ́n ṣe sànmání ìtakùn ẹ̀rọ ayélukárabíajere àmì ti ìṣe òwò ní iléiṣẹ́ kan tí ó fìdí rẹmi ní orílẹ̀ède us _END                                                                                            at the time we imported internet appliances called iopeners that were manufactured during the dotcom era by a failed us company                                                                                      37                   21                 \n",
       "8013  8013        ID_pLqMjlQg  START_ fẹ́mi o ò lè máa ra nǹkan oríṣìíríṣi fún mi báyìí _END                                                                                                                                                                                                                                     femi you cant go about buying me things as random like this                                                                                                                                                          13                   12                 \n",
       "1234  1234        ID_GBQvcOyY  START_ ṣe bóo ti mọ ẹlẹ́wàa ṣàpọ́n _END                                                                                                                                                                                                                                                           moderate your preening and strutting beautiful woman of ṣàpọ́n                                                                                                                                                       8                    9                  \n",
       "8378  8378        ID_rPpILZle  START_ akọ́nimọ̀ọ́gbá ogc nice té̩lè̩ lạ̀jọ nff yàn gẹ́gẹ́ bí akọnimọ̀ọ́gbá super eagles lọ́dún ó sì rankọ̀ ọ̀hún lọ́wọ́ láti lo̩ ìdíje bọ́ọ̀lù àgbááyé tó ń lọ lọ́wọ́ lórílẹ̀èdè russia _END                                                                                                     the former ogc nice manager was appointed head coach of the super eagles in and he steered the team to qualify for the fifa world cup in russia                                                                      31                   28                 \n",
       "6106  6106        ID_fVxeaalU  START_ ogún ń bókòó òwe aṣiwèrè _END                                                                                                                                                                                                                                                              twenty or a score an imbeciles puzzle                                                                                                                                                                                7                    7                  \n",
       "4900  4900        ID_ZOTOojMS  START_ kí a re odò ká sùn kí ni ará ilé yó mu _END                                                                                                                                                                                                                                                if we go to the river and sleep there what will the people left at home drink                                                                                                                                        14                   17                 \n",
       "4385  4385        ID_WbiPBQOx  START_ lákòókò tí nǹkan le yìí à ń gbàdúrà fún àwọn ará wa tó wà ní japan a sì mọ̀ pé jèhófà máa bójú tó àwọn ìránṣẹ́ ẹ̀ tí “àárẹ̀ bá ẹ̀mí wọn” nítorí àjálù yìí—sáàmù _END                                                                                                                       during this difficult time we pray for our brothers in japan confident that jehovah cares for his worshippers who are “crushed in spirit” by this series of natural disasters—psalm                                  37                   29                 \n",
       "3299  3299        ID_QohlMkwv  START_ gẹ́gẹ́ bí onímọ̀ nípa ètò ìṣúná owó david bollier ṣàpèjúwe rẹ̀ “commons jẹyọ nígbàkúùgbà tí ẹgbẹ́ kan nínú ìlú bá ní ìfẹ́ sí ìṣàkóso ohun àmúlò kan bí iṣẹ́ ní ọ̀nà tí ó bá ti àjọṣepọ̀ mu pẹ̀lú ìbọ̀wọ̀ fún ìṣòtítọ́ nípa rírí àyè sí iṣẹ́ náà ìṣàmúlò iṣẹ́ náà àti ìmúró iṣẹ́ náà” _END  as economist david bollier describes it “a commons arises whenever a given community decides it wishes to manage a resource in a collective manner with special regard for equitable access use and sustainability”  56                   33                 \n",
       "1709  1709        ID_IZUPXUDz  START_ padà ní bíi ìṣẹjú àáyá _END                                                                                                                                                                                                                                                                go back seconds                                                                                                                                                                                                      7                    3                  \n",
       "1093  1093        ID_FVWjfiSL  START_ “kò dùn mí kò dùn mí” àgbàlagbà ń bú ọpa lẹ́ẹ̀mẹfà nítorí iyán àná _END                                                                                                                                                                                                                    “i am not upset i am not upset” yet a grown man swears angrily six times because of last nights pounded yam                                                                                                          16                   22                 "
      ]
     },
     "execution_count": 28,
     "metadata": {},
     "output_type": "execute_result"
    }
   ],
   "source": [
    "train = shuffle(train)\n",
    "train.head(20)"
   ]
  },
  {
   "cell_type": "code",
   "execution_count": 29,
   "metadata": {},
   "outputs": [
    {
     "data": {
      "text/plain": [
       "((8007,), (2002,))"
      ]
     },
     "execution_count": 29,
     "metadata": {},
     "output_type": "execute_result"
    }
   ],
   "source": [
    "#Split the train data into train and test\n",
    "X, y = train[\"Yoruba\"], train[\"English\"]\n",
    "X_train, X_test, y_train, y_test = train_test_split(X, y, test_size = 0.2,random_state=42)\n",
    "X_train.shape, X_test.shape"
   ]
  },
  {
   "cell_type": "code",
   "execution_count": 30,
   "metadata": {},
   "outputs": [],
   "source": [
    "#Save data\n",
    "X_train.to_pickle('X_train.pkl')\n",
    "X_test.to_pickle('X_test.pkl')"
   ]
  },
  {
   "cell_type": "code",
   "execution_count": null,
   "metadata": {},
   "outputs": [],
   "source": []
  }
 ],
 "metadata": {
  "colab": {
   "name": "Yoruba Neural Machine Translation.ipynb",
   "provenance": []
  },
  "kernelspec": {
   "display_name": "Python 3",
   "language": "python",
   "name": "python3"
  },
  "language_info": {
   "codemirror_mode": {
    "name": "ipython",
    "version": 3
   },
   "file_extension": ".py",
   "mimetype": "text/x-python",
   "name": "python",
   "nbconvert_exporter": "python",
   "pygments_lexer": "ipython3",
   "version": "3.7.4"
  }
 },
 "nbformat": 4,
 "nbformat_minor": 1
}
